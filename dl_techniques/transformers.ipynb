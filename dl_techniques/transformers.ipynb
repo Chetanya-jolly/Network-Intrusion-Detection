{
 "cells": [
  {
   "cell_type": "markdown",
   "id": "efdfd872-eca4-46a2-93ca-82f36972b1ea",
   "metadata": {},
   "source": [
    "# Flush memory"
   ]
  },
  {
   "cell_type": "code",
   "execution_count": 126,
   "id": "34b182c2-3aab-4eab-a115-c15085806c26",
   "metadata": {},
   "outputs": [],
   "source": [
    "import torch\n",
    "torch.cuda.empty_cache()"
   ]
  },
  {
   "cell_type": "markdown",
   "id": "7bf6d412-04ae-4eac-bc16-6b21ac8d7707",
   "metadata": {},
   "source": [
    "# Imports and Setup"
   ]
  },
  {
   "cell_type": "code",
   "execution_count": 6,
   "id": "7f572c04",
   "metadata": {
    "_cell_guid": "b1076dfc-b9ad-4769-8c92-a6c4dae69d19",
    "_uuid": "8f2839f25d086af736a60e9eeb907d3b93b6e0e5",
    "papermill": {
     "duration": 0.706481,
     "end_time": "2025-03-16T07:58:45.510257",
     "exception": false,
     "start_time": "2025-03-16T07:58:44.803776",
     "status": "completed"
    },
    "scrolled": true,
    "tags": []
   },
   "outputs": [
    {
     "name": "stdout",
     "output_type": "stream",
     "text": [
      "D:\\Code\\ML_Project\\dataset\\NUSW-NB15_features.csv\n",
      "D:\\Code\\ML_Project\\dataset\\NUSW-NB15_GT.csv\n",
      "D:\\Code\\ML_Project\\dataset\\The UNSW-NB15 description.pdf\n",
      "D:\\Code\\ML_Project\\dataset\\UNSW-NB15_1.csv\n",
      "D:\\Code\\ML_Project\\dataset\\UNSW-NB15_2.csv\n",
      "D:\\Code\\ML_Project\\dataset\\UNSW-NB15_3.csv\n",
      "D:\\Code\\ML_Project\\dataset\\UNSW-NB15_4.csv\n",
      "D:\\Code\\ML_Project\\dataset\\UNSW-NB15_LIST_EVENTS.csv\n",
      "D:\\Code\\ML_Project\\dataset\\Training and Testing Sets\\UNSW_NB15_testing-set.csv\n",
      "D:\\Code\\ML_Project\\dataset\\Training and Testing Sets\\UNSW_NB15_testing-set.parquet\n",
      "D:\\Code\\ML_Project\\dataset\\Training and Testing Sets\\UNSW_NB15_training-set.csv\n",
      "D:\\Code\\ML_Project\\dataset\\Training and Testing Sets\\UNSW_NB15_training-set.parquet\n"
     ]
    }
   ],
   "source": [
    "import numpy as np \n",
    "import pandas as pd \n",
    "import os\n",
    "\n",
    "dataset = r\"D:\\Code\\ML_Project\\dataset\"\n",
    "for dirname, _, filenames in os.walk(dataset):\n",
    "    for filename in filenames:\n",
    "        print(os.path.join(dirname, filename))"
   ]
  },
  {
   "cell_type": "markdown",
   "id": "7b7996e3",
   "metadata": {
    "papermill": {
     "duration": 0.007136,
     "end_time": "2025-03-16T07:58:45.525406",
     "exception": false,
     "start_time": "2025-03-16T07:58:45.518270",
     "status": "completed"
    },
    "tags": []
   },
   "source": [
    "# Load dataset"
   ]
  },
  {
   "cell_type": "code",
   "execution_count": 8,
   "id": "4056a10f",
   "metadata": {
    "papermill": {
     "duration": 16.275921,
     "end_time": "2025-03-16T07:59:01.808523",
     "exception": false,
     "start_time": "2025-03-16T07:58:45.532602",
     "status": "completed"
    },
    "scrolled": true,
    "tags": []
   },
   "outputs": [],
   "source": [
    "import pandas as pd\n",
    "\n",
    "# Load the datasets with different encoding for the problematic file\n",
    "train_df = pd.read_csv(r\"D:\\Code\\ML_Project\\dataset\\Training and Testing Sets\\UNSW_NB15_training-set.csv\")\n",
    "test_df = pd.read_csv(r\"D:\\Code\\ML_Project\\dataset\\Training and Testing Sets\\UNSW_NB15_testing-set.csv\")\n",
    "event_df = pd.read_csv(r\"D:\\Code\\ML_Project\\dataset\\UNSW-NB15_LIST_EVENTS.csv\")\n",
    "\n",
    "\n",
    "features_df = pd.read_csv(r\"D:\\Code\\ML_Project\\dataset\\NUSW-NB15_features.csv\", encoding='ISO-8859-1')"
   ]
  },
  {
   "cell_type": "markdown",
   "id": "8e4ba0a5",
   "metadata": {
    "papermill": {
     "duration": 0.007457,
     "end_time": "2025-03-16T07:59:01.824100",
     "exception": false,
     "start_time": "2025-03-16T07:59:01.816643",
     "status": "completed"
    },
    "tags": []
   },
   "source": [
    "# Feature Details"
   ]
  },
  {
   "cell_type": "code",
   "execution_count": 12,
   "id": "348a3968",
   "metadata": {
    "papermill": {
     "duration": 0.025486,
     "end_time": "2025-03-16T07:59:01.857286",
     "exception": false,
     "start_time": "2025-03-16T07:59:01.831800",
     "status": "completed"
    },
    "scrolled": true,
    "tags": []
   },
   "outputs": [
    {
     "data": {
      "text/html": [
       "<div>\n",
       "<style scoped>\n",
       "    .dataframe tbody tr th:only-of-type {\n",
       "        vertical-align: middle;\n",
       "    }\n",
       "\n",
       "    .dataframe tbody tr th {\n",
       "        vertical-align: top;\n",
       "    }\n",
       "\n",
       "    .dataframe thead th {\n",
       "        text-align: right;\n",
       "    }\n",
       "</style>\n",
       "<table border=\"1\" class=\"dataframe\">\n",
       "  <thead>\n",
       "    <tr style=\"text-align: right;\">\n",
       "      <th></th>\n",
       "      <th>No.</th>\n",
       "      <th>Name</th>\n",
       "      <th>Type</th>\n",
       "      <th>Description</th>\n",
       "    </tr>\n",
       "  </thead>\n",
       "  <tbody>\n",
       "    <tr>\n",
       "      <th>0</th>\n",
       "      <td>1</td>\n",
       "      <td>srcip</td>\n",
       "      <td>nominal</td>\n",
       "      <td>Source IP address</td>\n",
       "    </tr>\n",
       "    <tr>\n",
       "      <th>1</th>\n",
       "      <td>2</td>\n",
       "      <td>sport</td>\n",
       "      <td>integer</td>\n",
       "      <td>Source port number</td>\n",
       "    </tr>\n",
       "    <tr>\n",
       "      <th>2</th>\n",
       "      <td>3</td>\n",
       "      <td>dstip</td>\n",
       "      <td>nominal</td>\n",
       "      <td>Destination IP address</td>\n",
       "    </tr>\n",
       "    <tr>\n",
       "      <th>3</th>\n",
       "      <td>4</td>\n",
       "      <td>dsport</td>\n",
       "      <td>integer</td>\n",
       "      <td>Destination port number</td>\n",
       "    </tr>\n",
       "    <tr>\n",
       "      <th>4</th>\n",
       "      <td>5</td>\n",
       "      <td>proto</td>\n",
       "      <td>nominal</td>\n",
       "      <td>Transaction protocol</td>\n",
       "    </tr>\n",
       "    <tr>\n",
       "      <th>5</th>\n",
       "      <td>6</td>\n",
       "      <td>state</td>\n",
       "      <td>nominal</td>\n",
       "      <td>Indicates to the state and its dependent proto...</td>\n",
       "    </tr>\n",
       "    <tr>\n",
       "      <th>6</th>\n",
       "      <td>7</td>\n",
       "      <td>dur</td>\n",
       "      <td>Float</td>\n",
       "      <td>Record total duration</td>\n",
       "    </tr>\n",
       "    <tr>\n",
       "      <th>7</th>\n",
       "      <td>8</td>\n",
       "      <td>sbytes</td>\n",
       "      <td>Integer</td>\n",
       "      <td>Source to destination transaction bytes</td>\n",
       "    </tr>\n",
       "    <tr>\n",
       "      <th>8</th>\n",
       "      <td>9</td>\n",
       "      <td>dbytes</td>\n",
       "      <td>Integer</td>\n",
       "      <td>Destination to source transaction bytes</td>\n",
       "    </tr>\n",
       "    <tr>\n",
       "      <th>9</th>\n",
       "      <td>10</td>\n",
       "      <td>sttl</td>\n",
       "      <td>Integer</td>\n",
       "      <td>Source to destination time to live value</td>\n",
       "    </tr>\n",
       "    <tr>\n",
       "      <th>10</th>\n",
       "      <td>11</td>\n",
       "      <td>dttl</td>\n",
       "      <td>Integer</td>\n",
       "      <td>Destination to source time to live value</td>\n",
       "    </tr>\n",
       "    <tr>\n",
       "      <th>11</th>\n",
       "      <td>12</td>\n",
       "      <td>sloss</td>\n",
       "      <td>Integer</td>\n",
       "      <td>Source packets retransmitted or dropped</td>\n",
       "    </tr>\n",
       "    <tr>\n",
       "      <th>12</th>\n",
       "      <td>13</td>\n",
       "      <td>dloss</td>\n",
       "      <td>Integer</td>\n",
       "      <td>Destination packets retransmitted or dropped</td>\n",
       "    </tr>\n",
       "    <tr>\n",
       "      <th>13</th>\n",
       "      <td>14</td>\n",
       "      <td>service</td>\n",
       "      <td>nominal</td>\n",
       "      <td>http, ftp, smtp, ssh, dns, ftp-data ,irc  and ...</td>\n",
       "    </tr>\n",
       "    <tr>\n",
       "      <th>14</th>\n",
       "      <td>15</td>\n",
       "      <td>Sload</td>\n",
       "      <td>Float</td>\n",
       "      <td>Source bits per second</td>\n",
       "    </tr>\n",
       "    <tr>\n",
       "      <th>15</th>\n",
       "      <td>16</td>\n",
       "      <td>Dload</td>\n",
       "      <td>Float</td>\n",
       "      <td>Destination bits per second</td>\n",
       "    </tr>\n",
       "    <tr>\n",
       "      <th>16</th>\n",
       "      <td>17</td>\n",
       "      <td>Spkts</td>\n",
       "      <td>integer</td>\n",
       "      <td>Source to destination packet count</td>\n",
       "    </tr>\n",
       "    <tr>\n",
       "      <th>17</th>\n",
       "      <td>18</td>\n",
       "      <td>Dpkts</td>\n",
       "      <td>integer</td>\n",
       "      <td>Destination to source packet count</td>\n",
       "    </tr>\n",
       "    <tr>\n",
       "      <th>18</th>\n",
       "      <td>19</td>\n",
       "      <td>swin</td>\n",
       "      <td>integer</td>\n",
       "      <td>Source TCP window advertisement value</td>\n",
       "    </tr>\n",
       "    <tr>\n",
       "      <th>19</th>\n",
       "      <td>20</td>\n",
       "      <td>dwin</td>\n",
       "      <td>integer</td>\n",
       "      <td>Destination TCP window advertisement value</td>\n",
       "    </tr>\n",
       "    <tr>\n",
       "      <th>20</th>\n",
       "      <td>21</td>\n",
       "      <td>stcpb</td>\n",
       "      <td>integer</td>\n",
       "      <td>Source TCP base sequence number</td>\n",
       "    </tr>\n",
       "    <tr>\n",
       "      <th>21</th>\n",
       "      <td>22</td>\n",
       "      <td>dtcpb</td>\n",
       "      <td>integer</td>\n",
       "      <td>Destination TCP base sequence number</td>\n",
       "    </tr>\n",
       "    <tr>\n",
       "      <th>22</th>\n",
       "      <td>23</td>\n",
       "      <td>smeansz</td>\n",
       "      <td>integer</td>\n",
       "      <td>Mean of the ?ow packet size transmitted by the...</td>\n",
       "    </tr>\n",
       "    <tr>\n",
       "      <th>23</th>\n",
       "      <td>24</td>\n",
       "      <td>dmeansz</td>\n",
       "      <td>integer</td>\n",
       "      <td>Mean of the ?ow packet size transmitted by the...</td>\n",
       "    </tr>\n",
       "    <tr>\n",
       "      <th>24</th>\n",
       "      <td>25</td>\n",
       "      <td>trans_depth</td>\n",
       "      <td>integer</td>\n",
       "      <td>Represents the pipelined depth into the connec...</td>\n",
       "    </tr>\n",
       "    <tr>\n",
       "      <th>25</th>\n",
       "      <td>26</td>\n",
       "      <td>res_bdy_len</td>\n",
       "      <td>integer</td>\n",
       "      <td>Actual uncompressed content size of the data t...</td>\n",
       "    </tr>\n",
       "    <tr>\n",
       "      <th>26</th>\n",
       "      <td>27</td>\n",
       "      <td>Sjit</td>\n",
       "      <td>Float</td>\n",
       "      <td>Source jitter (mSec)</td>\n",
       "    </tr>\n",
       "    <tr>\n",
       "      <th>27</th>\n",
       "      <td>28</td>\n",
       "      <td>Djit</td>\n",
       "      <td>Float</td>\n",
       "      <td>Destination jitter (mSec)</td>\n",
       "    </tr>\n",
       "    <tr>\n",
       "      <th>28</th>\n",
       "      <td>29</td>\n",
       "      <td>Stime</td>\n",
       "      <td>Timestamp</td>\n",
       "      <td>record start time</td>\n",
       "    </tr>\n",
       "    <tr>\n",
       "      <th>29</th>\n",
       "      <td>30</td>\n",
       "      <td>Ltime</td>\n",
       "      <td>Timestamp</td>\n",
       "      <td>record last time</td>\n",
       "    </tr>\n",
       "    <tr>\n",
       "      <th>30</th>\n",
       "      <td>31</td>\n",
       "      <td>Sintpkt</td>\n",
       "      <td>Float</td>\n",
       "      <td>Source interpacket arrival time (mSec)</td>\n",
       "    </tr>\n",
       "    <tr>\n",
       "      <th>31</th>\n",
       "      <td>32</td>\n",
       "      <td>Dintpkt</td>\n",
       "      <td>Float</td>\n",
       "      <td>Destination interpacket arrival time (mSec)</td>\n",
       "    </tr>\n",
       "    <tr>\n",
       "      <th>32</th>\n",
       "      <td>33</td>\n",
       "      <td>tcprtt</td>\n",
       "      <td>Float</td>\n",
       "      <td>TCP connection setup round-trip time, the sum ...</td>\n",
       "    </tr>\n",
       "    <tr>\n",
       "      <th>33</th>\n",
       "      <td>34</td>\n",
       "      <td>synack</td>\n",
       "      <td>Float</td>\n",
       "      <td>TCP connection setup time, the time between th...</td>\n",
       "    </tr>\n",
       "    <tr>\n",
       "      <th>34</th>\n",
       "      <td>35</td>\n",
       "      <td>ackdat</td>\n",
       "      <td>Float</td>\n",
       "      <td>TCP connection setup time, the time between th...</td>\n",
       "    </tr>\n",
       "    <tr>\n",
       "      <th>35</th>\n",
       "      <td>36</td>\n",
       "      <td>is_sm_ips_ports</td>\n",
       "      <td>Binary</td>\n",
       "      <td>If source (1) and destination (3)IP addresses ...</td>\n",
       "    </tr>\n",
       "    <tr>\n",
       "      <th>36</th>\n",
       "      <td>37</td>\n",
       "      <td>ct_state_ttl</td>\n",
       "      <td>Integer</td>\n",
       "      <td>No. for each state (6) according to specific r...</td>\n",
       "    </tr>\n",
       "    <tr>\n",
       "      <th>37</th>\n",
       "      <td>38</td>\n",
       "      <td>ct_flw_http_mthd</td>\n",
       "      <td>Integer</td>\n",
       "      <td>No. of flows that has methods such as Get and ...</td>\n",
       "    </tr>\n",
       "    <tr>\n",
       "      <th>38</th>\n",
       "      <td>39</td>\n",
       "      <td>is_ftp_login</td>\n",
       "      <td>Binary</td>\n",
       "      <td>If the ftp session is accessed by user and pas...</td>\n",
       "    </tr>\n",
       "    <tr>\n",
       "      <th>39</th>\n",
       "      <td>40</td>\n",
       "      <td>ct_ftp_cmd</td>\n",
       "      <td>integer</td>\n",
       "      <td>No of flows that has a command in ftp session.</td>\n",
       "    </tr>\n",
       "    <tr>\n",
       "      <th>40</th>\n",
       "      <td>41</td>\n",
       "      <td>ct_srv_src</td>\n",
       "      <td>integer</td>\n",
       "      <td>No. of connections that contain the same servi...</td>\n",
       "    </tr>\n",
       "    <tr>\n",
       "      <th>41</th>\n",
       "      <td>42</td>\n",
       "      <td>ct_srv_dst</td>\n",
       "      <td>integer</td>\n",
       "      <td>No. of connections that contain the same servi...</td>\n",
       "    </tr>\n",
       "    <tr>\n",
       "      <th>42</th>\n",
       "      <td>43</td>\n",
       "      <td>ct_dst_ltm</td>\n",
       "      <td>integer</td>\n",
       "      <td>No. of connections of the same destination add...</td>\n",
       "    </tr>\n",
       "    <tr>\n",
       "      <th>43</th>\n",
       "      <td>44</td>\n",
       "      <td>ct_src_ ltm</td>\n",
       "      <td>integer</td>\n",
       "      <td>No. of connections of the same source address ...</td>\n",
       "    </tr>\n",
       "    <tr>\n",
       "      <th>44</th>\n",
       "      <td>45</td>\n",
       "      <td>ct_src_dport_ltm</td>\n",
       "      <td>integer</td>\n",
       "      <td>No of connections of the same source address (...</td>\n",
       "    </tr>\n",
       "    <tr>\n",
       "      <th>45</th>\n",
       "      <td>46</td>\n",
       "      <td>ct_dst_sport_ltm</td>\n",
       "      <td>integer</td>\n",
       "      <td>No of connections of the same destination addr...</td>\n",
       "    </tr>\n",
       "    <tr>\n",
       "      <th>46</th>\n",
       "      <td>47</td>\n",
       "      <td>ct_dst_src_ltm</td>\n",
       "      <td>integer</td>\n",
       "      <td>No of connections of the same source (1) and t...</td>\n",
       "    </tr>\n",
       "    <tr>\n",
       "      <th>47</th>\n",
       "      <td>48</td>\n",
       "      <td>attack_cat</td>\n",
       "      <td>nominal</td>\n",
       "      <td>The name of each attack category. In this data...</td>\n",
       "    </tr>\n",
       "    <tr>\n",
       "      <th>48</th>\n",
       "      <td>49</td>\n",
       "      <td>Label</td>\n",
       "      <td>binary</td>\n",
       "      <td>0 for normal and 1 for attack records</td>\n",
       "    </tr>\n",
       "  </tbody>\n",
       "</table>\n",
       "</div>"
      ],
      "text/plain": [
       "    No.              Name      Type   \\\n",
       "0     1             srcip    nominal   \n",
       "1     2             sport    integer   \n",
       "2     3             dstip    nominal   \n",
       "3     4            dsport    integer   \n",
       "4     5             proto    nominal   \n",
       "5     6             state    nominal   \n",
       "6     7               dur      Float   \n",
       "7     8            sbytes    Integer   \n",
       "8     9            dbytes    Integer   \n",
       "9    10              sttl    Integer   \n",
       "10   11              dttl    Integer   \n",
       "11   12             sloss    Integer   \n",
       "12   13             dloss    Integer   \n",
       "13   14           service    nominal   \n",
       "14   15             Sload      Float   \n",
       "15   16             Dload      Float   \n",
       "16   17             Spkts    integer   \n",
       "17   18             Dpkts    integer   \n",
       "18   19              swin    integer   \n",
       "19   20              dwin    integer   \n",
       "20   21             stcpb    integer   \n",
       "21   22             dtcpb    integer   \n",
       "22   23           smeansz    integer   \n",
       "23   24           dmeansz    integer   \n",
       "24   25       trans_depth    integer   \n",
       "25   26       res_bdy_len    integer   \n",
       "26   27              Sjit      Float   \n",
       "27   28              Djit      Float   \n",
       "28   29             Stime  Timestamp   \n",
       "29   30             Ltime  Timestamp   \n",
       "30   31           Sintpkt      Float   \n",
       "31   32           Dintpkt      Float   \n",
       "32   33            tcprtt      Float   \n",
       "33   34            synack      Float   \n",
       "34   35            ackdat      Float   \n",
       "35   36   is_sm_ips_ports     Binary   \n",
       "36   37      ct_state_ttl    Integer   \n",
       "37   38  ct_flw_http_mthd    Integer   \n",
       "38   39      is_ftp_login     Binary   \n",
       "39   40        ct_ftp_cmd    integer   \n",
       "40   41        ct_srv_src    integer   \n",
       "41   42        ct_srv_dst    integer   \n",
       "42   43        ct_dst_ltm    integer   \n",
       "43   44       ct_src_ ltm    integer   \n",
       "44   45  ct_src_dport_ltm    integer   \n",
       "45   46  ct_dst_sport_ltm    integer   \n",
       "46   47    ct_dst_src_ltm    integer   \n",
       "47   48        attack_cat    nominal   \n",
       "48   49             Label     binary   \n",
       "\n",
       "                                          Description  \n",
       "0                                   Source IP address  \n",
       "1                                  Source port number  \n",
       "2                              Destination IP address  \n",
       "3                             Destination port number  \n",
       "4                                Transaction protocol  \n",
       "5   Indicates to the state and its dependent proto...  \n",
       "6                               Record total duration  \n",
       "7            Source to destination transaction bytes   \n",
       "8             Destination to source transaction bytes  \n",
       "9           Source to destination time to live value   \n",
       "10           Destination to source time to live value  \n",
       "11           Source packets retransmitted or dropped   \n",
       "12       Destination packets retransmitted or dropped  \n",
       "13  http, ftp, smtp, ssh, dns, ftp-data ,irc  and ...  \n",
       "14                             Source bits per second  \n",
       "15                        Destination bits per second  \n",
       "16                Source to destination packet count   \n",
       "17                 Destination to source packet count  \n",
       "18              Source TCP window advertisement value  \n",
       "19         Destination TCP window advertisement value  \n",
       "20                    Source TCP base sequence number  \n",
       "21               Destination TCP base sequence number  \n",
       "22  Mean of the ?ow packet size transmitted by the...  \n",
       "23  Mean of the ?ow packet size transmitted by the...  \n",
       "24  Represents the pipelined depth into the connec...  \n",
       "25  Actual uncompressed content size of the data t...  \n",
       "26                               Source jitter (mSec)  \n",
       "27                          Destination jitter (mSec)  \n",
       "28                                  record start time  \n",
       "29                                   record last time  \n",
       "30             Source interpacket arrival time (mSec)  \n",
       "31        Destination interpacket arrival time (mSec)  \n",
       "32  TCP connection setup round-trip time, the sum ...  \n",
       "33  TCP connection setup time, the time between th...  \n",
       "34  TCP connection setup time, the time between th...  \n",
       "35  If source (1) and destination (3)IP addresses ...  \n",
       "36  No. for each state (6) according to specific r...  \n",
       "37  No. of flows that has methods such as Get and ...  \n",
       "38  If the ftp session is accessed by user and pas...  \n",
       "39     No of flows that has a command in ftp session.  \n",
       "40  No. of connections that contain the same servi...  \n",
       "41  No. of connections that contain the same servi...  \n",
       "42  No. of connections of the same destination add...  \n",
       "43  No. of connections of the same source address ...  \n",
       "44  No of connections of the same source address (...  \n",
       "45  No of connections of the same destination addr...  \n",
       "46  No of connections of the same source (1) and t...  \n",
       "47  The name of each attack category. In this data...  \n",
       "48              0 for normal and 1 for attack records  "
      ]
     },
     "execution_count": 12,
     "metadata": {},
     "output_type": "execute_result"
    }
   ],
   "source": [
    "features_df"
   ]
  },
  {
   "cell_type": "code",
   "execution_count": 15,
   "id": "687aeeb3",
   "metadata": {
    "papermill": {
     "duration": 0.03989,
     "end_time": "2025-03-16T07:59:01.905332",
     "exception": false,
     "start_time": "2025-03-16T07:59:01.865442",
     "status": "completed"
    },
    "scrolled": true,
    "tags": []
   },
   "outputs": [
    {
     "data": {
      "text/html": [
       "<div>\n",
       "<style scoped>\n",
       "    .dataframe tbody tr th:only-of-type {\n",
       "        vertical-align: middle;\n",
       "    }\n",
       "\n",
       "    .dataframe tbody tr th {\n",
       "        vertical-align: top;\n",
       "    }\n",
       "\n",
       "    .dataframe thead th {\n",
       "        text-align: right;\n",
       "    }\n",
       "</style>\n",
       "<table border=\"1\" class=\"dataframe\">\n",
       "  <thead>\n",
       "    <tr style=\"text-align: right;\">\n",
       "      <th></th>\n",
       "      <th>id</th>\n",
       "      <th>dur</th>\n",
       "      <th>proto</th>\n",
       "      <th>service</th>\n",
       "      <th>state</th>\n",
       "      <th>spkts</th>\n",
       "      <th>dpkts</th>\n",
       "      <th>sbytes</th>\n",
       "      <th>dbytes</th>\n",
       "      <th>rate</th>\n",
       "      <th>...</th>\n",
       "      <th>ct_dst_sport_ltm</th>\n",
       "      <th>ct_dst_src_ltm</th>\n",
       "      <th>is_ftp_login</th>\n",
       "      <th>ct_ftp_cmd</th>\n",
       "      <th>ct_flw_http_mthd</th>\n",
       "      <th>ct_src_ltm</th>\n",
       "      <th>ct_srv_dst</th>\n",
       "      <th>is_sm_ips_ports</th>\n",
       "      <th>attack_cat</th>\n",
       "      <th>label</th>\n",
       "    </tr>\n",
       "  </thead>\n",
       "  <tbody>\n",
       "    <tr>\n",
       "      <th>0</th>\n",
       "      <td>1</td>\n",
       "      <td>0.121478</td>\n",
       "      <td>tcp</td>\n",
       "      <td>-</td>\n",
       "      <td>FIN</td>\n",
       "      <td>6</td>\n",
       "      <td>4</td>\n",
       "      <td>258</td>\n",
       "      <td>172</td>\n",
       "      <td>74.087490</td>\n",
       "      <td>...</td>\n",
       "      <td>1</td>\n",
       "      <td>1</td>\n",
       "      <td>0</td>\n",
       "      <td>0</td>\n",
       "      <td>0</td>\n",
       "      <td>1</td>\n",
       "      <td>1</td>\n",
       "      <td>0</td>\n",
       "      <td>Normal</td>\n",
       "      <td>0</td>\n",
       "    </tr>\n",
       "    <tr>\n",
       "      <th>1</th>\n",
       "      <td>2</td>\n",
       "      <td>0.649902</td>\n",
       "      <td>tcp</td>\n",
       "      <td>-</td>\n",
       "      <td>FIN</td>\n",
       "      <td>14</td>\n",
       "      <td>38</td>\n",
       "      <td>734</td>\n",
       "      <td>42014</td>\n",
       "      <td>78.473372</td>\n",
       "      <td>...</td>\n",
       "      <td>1</td>\n",
       "      <td>2</td>\n",
       "      <td>0</td>\n",
       "      <td>0</td>\n",
       "      <td>0</td>\n",
       "      <td>1</td>\n",
       "      <td>6</td>\n",
       "      <td>0</td>\n",
       "      <td>Normal</td>\n",
       "      <td>0</td>\n",
       "    </tr>\n",
       "    <tr>\n",
       "      <th>2</th>\n",
       "      <td>3</td>\n",
       "      <td>1.623129</td>\n",
       "      <td>tcp</td>\n",
       "      <td>-</td>\n",
       "      <td>FIN</td>\n",
       "      <td>8</td>\n",
       "      <td>16</td>\n",
       "      <td>364</td>\n",
       "      <td>13186</td>\n",
       "      <td>14.170161</td>\n",
       "      <td>...</td>\n",
       "      <td>1</td>\n",
       "      <td>3</td>\n",
       "      <td>0</td>\n",
       "      <td>0</td>\n",
       "      <td>0</td>\n",
       "      <td>2</td>\n",
       "      <td>6</td>\n",
       "      <td>0</td>\n",
       "      <td>Normal</td>\n",
       "      <td>0</td>\n",
       "    </tr>\n",
       "    <tr>\n",
       "      <th>3</th>\n",
       "      <td>4</td>\n",
       "      <td>1.681642</td>\n",
       "      <td>tcp</td>\n",
       "      <td>ftp</td>\n",
       "      <td>FIN</td>\n",
       "      <td>12</td>\n",
       "      <td>12</td>\n",
       "      <td>628</td>\n",
       "      <td>770</td>\n",
       "      <td>13.677108</td>\n",
       "      <td>...</td>\n",
       "      <td>1</td>\n",
       "      <td>3</td>\n",
       "      <td>1</td>\n",
       "      <td>1</td>\n",
       "      <td>0</td>\n",
       "      <td>2</td>\n",
       "      <td>1</td>\n",
       "      <td>0</td>\n",
       "      <td>Normal</td>\n",
       "      <td>0</td>\n",
       "    </tr>\n",
       "    <tr>\n",
       "      <th>4</th>\n",
       "      <td>5</td>\n",
       "      <td>0.449454</td>\n",
       "      <td>tcp</td>\n",
       "      <td>-</td>\n",
       "      <td>FIN</td>\n",
       "      <td>10</td>\n",
       "      <td>6</td>\n",
       "      <td>534</td>\n",
       "      <td>268</td>\n",
       "      <td>33.373826</td>\n",
       "      <td>...</td>\n",
       "      <td>1</td>\n",
       "      <td>40</td>\n",
       "      <td>0</td>\n",
       "      <td>0</td>\n",
       "      <td>0</td>\n",
       "      <td>2</td>\n",
       "      <td>39</td>\n",
       "      <td>0</td>\n",
       "      <td>Normal</td>\n",
       "      <td>0</td>\n",
       "    </tr>\n",
       "    <tr>\n",
       "      <th>...</th>\n",
       "      <td>...</td>\n",
       "      <td>...</td>\n",
       "      <td>...</td>\n",
       "      <td>...</td>\n",
       "      <td>...</td>\n",
       "      <td>...</td>\n",
       "      <td>...</td>\n",
       "      <td>...</td>\n",
       "      <td>...</td>\n",
       "      <td>...</td>\n",
       "      <td>...</td>\n",
       "      <td>...</td>\n",
       "      <td>...</td>\n",
       "      <td>...</td>\n",
       "      <td>...</td>\n",
       "      <td>...</td>\n",
       "      <td>...</td>\n",
       "      <td>...</td>\n",
       "      <td>...</td>\n",
       "      <td>...</td>\n",
       "      <td>...</td>\n",
       "    </tr>\n",
       "    <tr>\n",
       "      <th>175336</th>\n",
       "      <td>175337</td>\n",
       "      <td>0.000009</td>\n",
       "      <td>udp</td>\n",
       "      <td>dns</td>\n",
       "      <td>INT</td>\n",
       "      <td>2</td>\n",
       "      <td>0</td>\n",
       "      <td>114</td>\n",
       "      <td>0</td>\n",
       "      <td>111111.107200</td>\n",
       "      <td>...</td>\n",
       "      <td>13</td>\n",
       "      <td>24</td>\n",
       "      <td>0</td>\n",
       "      <td>0</td>\n",
       "      <td>0</td>\n",
       "      <td>24</td>\n",
       "      <td>24</td>\n",
       "      <td>0</td>\n",
       "      <td>Generic</td>\n",
       "      <td>1</td>\n",
       "    </tr>\n",
       "    <tr>\n",
       "      <th>175337</th>\n",
       "      <td>175338</td>\n",
       "      <td>0.505762</td>\n",
       "      <td>tcp</td>\n",
       "      <td>-</td>\n",
       "      <td>FIN</td>\n",
       "      <td>10</td>\n",
       "      <td>8</td>\n",
       "      <td>620</td>\n",
       "      <td>354</td>\n",
       "      <td>33.612649</td>\n",
       "      <td>...</td>\n",
       "      <td>1</td>\n",
       "      <td>2</td>\n",
       "      <td>0</td>\n",
       "      <td>0</td>\n",
       "      <td>0</td>\n",
       "      <td>1</td>\n",
       "      <td>1</td>\n",
       "      <td>0</td>\n",
       "      <td>Shellcode</td>\n",
       "      <td>1</td>\n",
       "    </tr>\n",
       "    <tr>\n",
       "      <th>175338</th>\n",
       "      <td>175339</td>\n",
       "      <td>0.000009</td>\n",
       "      <td>udp</td>\n",
       "      <td>dns</td>\n",
       "      <td>INT</td>\n",
       "      <td>2</td>\n",
       "      <td>0</td>\n",
       "      <td>114</td>\n",
       "      <td>0</td>\n",
       "      <td>111111.107200</td>\n",
       "      <td>...</td>\n",
       "      <td>3</td>\n",
       "      <td>13</td>\n",
       "      <td>0</td>\n",
       "      <td>0</td>\n",
       "      <td>0</td>\n",
       "      <td>3</td>\n",
       "      <td>12</td>\n",
       "      <td>0</td>\n",
       "      <td>Generic</td>\n",
       "      <td>1</td>\n",
       "    </tr>\n",
       "    <tr>\n",
       "      <th>175339</th>\n",
       "      <td>175340</td>\n",
       "      <td>0.000009</td>\n",
       "      <td>udp</td>\n",
       "      <td>dns</td>\n",
       "      <td>INT</td>\n",
       "      <td>2</td>\n",
       "      <td>0</td>\n",
       "      <td>114</td>\n",
       "      <td>0</td>\n",
       "      <td>111111.107200</td>\n",
       "      <td>...</td>\n",
       "      <td>14</td>\n",
       "      <td>30</td>\n",
       "      <td>0</td>\n",
       "      <td>0</td>\n",
       "      <td>0</td>\n",
       "      <td>30</td>\n",
       "      <td>30</td>\n",
       "      <td>0</td>\n",
       "      <td>Generic</td>\n",
       "      <td>1</td>\n",
       "    </tr>\n",
       "    <tr>\n",
       "      <th>175340</th>\n",
       "      <td>175341</td>\n",
       "      <td>0.000009</td>\n",
       "      <td>udp</td>\n",
       "      <td>dns</td>\n",
       "      <td>INT</td>\n",
       "      <td>2</td>\n",
       "      <td>0</td>\n",
       "      <td>114</td>\n",
       "      <td>0</td>\n",
       "      <td>111111.107200</td>\n",
       "      <td>...</td>\n",
       "      <td>16</td>\n",
       "      <td>30</td>\n",
       "      <td>0</td>\n",
       "      <td>0</td>\n",
       "      <td>0</td>\n",
       "      <td>30</td>\n",
       "      <td>30</td>\n",
       "      <td>0</td>\n",
       "      <td>Generic</td>\n",
       "      <td>1</td>\n",
       "    </tr>\n",
       "  </tbody>\n",
       "</table>\n",
       "<p>175341 rows × 45 columns</p>\n",
       "</div>"
      ],
      "text/plain": [
       "            id       dur proto service state  spkts  dpkts  sbytes  dbytes  \\\n",
       "0            1  0.121478   tcp       -   FIN      6      4     258     172   \n",
       "1            2  0.649902   tcp       -   FIN     14     38     734   42014   \n",
       "2            3  1.623129   tcp       -   FIN      8     16     364   13186   \n",
       "3            4  1.681642   tcp     ftp   FIN     12     12     628     770   \n",
       "4            5  0.449454   tcp       -   FIN     10      6     534     268   \n",
       "...        ...       ...   ...     ...   ...    ...    ...     ...     ...   \n",
       "175336  175337  0.000009   udp     dns   INT      2      0     114       0   \n",
       "175337  175338  0.505762   tcp       -   FIN     10      8     620     354   \n",
       "175338  175339  0.000009   udp     dns   INT      2      0     114       0   \n",
       "175339  175340  0.000009   udp     dns   INT      2      0     114       0   \n",
       "175340  175341  0.000009   udp     dns   INT      2      0     114       0   \n",
       "\n",
       "                 rate  ...  ct_dst_sport_ltm  ct_dst_src_ltm  is_ftp_login  \\\n",
       "0           74.087490  ...                 1               1             0   \n",
       "1           78.473372  ...                 1               2             0   \n",
       "2           14.170161  ...                 1               3             0   \n",
       "3           13.677108  ...                 1               3             1   \n",
       "4           33.373826  ...                 1              40             0   \n",
       "...               ...  ...               ...             ...           ...   \n",
       "175336  111111.107200  ...                13              24             0   \n",
       "175337      33.612649  ...                 1               2             0   \n",
       "175338  111111.107200  ...                 3              13             0   \n",
       "175339  111111.107200  ...                14              30             0   \n",
       "175340  111111.107200  ...                16              30             0   \n",
       "\n",
       "        ct_ftp_cmd  ct_flw_http_mthd  ct_src_ltm  ct_srv_dst  is_sm_ips_ports  \\\n",
       "0                0                 0           1           1                0   \n",
       "1                0                 0           1           6                0   \n",
       "2                0                 0           2           6                0   \n",
       "3                1                 0           2           1                0   \n",
       "4                0                 0           2          39                0   \n",
       "...            ...               ...         ...         ...              ...   \n",
       "175336           0                 0          24          24                0   \n",
       "175337           0                 0           1           1                0   \n",
       "175338           0                 0           3          12                0   \n",
       "175339           0                 0          30          30                0   \n",
       "175340           0                 0          30          30                0   \n",
       "\n",
       "        attack_cat  label  \n",
       "0           Normal      0  \n",
       "1           Normal      0  \n",
       "2           Normal      0  \n",
       "3           Normal      0  \n",
       "4           Normal      0  \n",
       "...            ...    ...  \n",
       "175336     Generic      1  \n",
       "175337   Shellcode      1  \n",
       "175338     Generic      1  \n",
       "175339     Generic      1  \n",
       "175340     Generic      1  \n",
       "\n",
       "[175341 rows x 45 columns]"
      ]
     },
     "execution_count": 15,
     "metadata": {},
     "output_type": "execute_result"
    }
   ],
   "source": [
    "train_df "
   ]
  },
  {
   "cell_type": "markdown",
   "id": "f3a9225e",
   "metadata": {
    "papermill": {
     "duration": 0.008676,
     "end_time": "2025-03-16T07:59:05.286055",
     "exception": false,
     "start_time": "2025-03-16T07:59:05.277379",
     "status": "completed"
    },
    "tags": []
   },
   "source": [
    "# Basic Data preprocesssing"
   ]
  },
  {
   "cell_type": "markdown",
   "id": "4b0a1b11",
   "metadata": {
    "papermill": {
     "duration": 0.008476,
     "end_time": "2025-03-16T07:59:05.303217",
     "exception": false,
     "start_time": "2025-03-16T07:59:05.294741",
     "status": "completed"
    },
    "tags": []
   },
   "source": [
    "## Dataset columns"
   ]
  },
  {
   "cell_type": "code",
   "execution_count": 19,
   "id": "2f2e2dae-4332-4c5d-b2a9-4a35785902b7",
   "metadata": {},
   "outputs": [
    {
     "data": {
      "text/plain": [
       "41"
      ]
     },
     "execution_count": 19,
     "metadata": {},
     "output_type": "execute_result"
    }
   ],
   "source": [
    "num = train_df.select_dtypes(include=[\"float64\", \"int64\"])\n",
    "len(num.columns)"
   ]
  },
  {
   "cell_type": "code",
   "execution_count": 44,
   "id": "0d8d166a",
   "metadata": {
    "papermill": {
     "duration": 0.015255,
     "end_time": "2025-03-16T07:59:05.327100",
     "exception": false,
     "start_time": "2025-03-16T07:59:05.311845",
     "status": "completed"
    },
    "tags": []
   },
   "outputs": [
    {
     "name": "stdout",
     "output_type": "stream",
     "text": [
      "There are 41 Numerical Columns in training-dataset\n",
      "There are 4 Categorical Columns in training-dataset\n",
      "There are 41 Numerical Columns in testing-dataset\n",
      "There are 4 Categorical Columns in testing-dataset\n"
     ]
    }
   ],
   "source": [
    "def countColumns(df, name=''):\n",
    "    # Identify the data types of columns\n",
    "    column_data_types = df.dtypes\n",
    "    \n",
    "    # Count the numerical and categorical columns\n",
    "    numerical_count = 0\n",
    "    categorical_count = 0\n",
    "    if name:\n",
    "        name += '-'\n",
    "    for column_name, data_type in column_data_types.items():\n",
    "        if np.issubdtype(data_type, np.number):\n",
    "            numerical_count += 1\n",
    "        else:\n",
    "            categorical_count += 1\n",
    "    \n",
    "    # Print the counts\n",
    "    print(f\"There are {numerical_count} Numerical Columns in {name}dataset\")\n",
    "    print(f\"There are {categorical_count} Categorical Columns in {name}dataset\")\n",
    "countColumns(train_df, 'training')\n",
    "countColumns(test_df, 'testing')"
   ]
  },
  {
   "cell_type": "markdown",
   "id": "cf834201",
   "metadata": {
    "papermill": {
     "duration": 0.008473,
     "end_time": "2025-03-16T07:59:05.344187",
     "exception": false,
     "start_time": "2025-03-16T07:59:05.335714",
     "status": "completed"
    },
    "tags": []
   },
   "source": [
    "## Find duplicate records\n"
   ]
  },
  {
   "cell_type": "code",
   "execution_count": 47,
   "id": "89513f9f",
   "metadata": {
    "papermill": {
     "duration": 13.915093,
     "end_time": "2025-03-16T07:59:19.268071",
     "exception": false,
     "start_time": "2025-03-16T07:59:05.352978",
     "status": "completed"
    },
    "tags": []
   },
   "outputs": [
    {
     "name": "stdout",
     "output_type": "stream",
     "text": [
      "Duplicates in train_df:  0\n",
      "Duplicates in test_df:  0\n"
     ]
    }
   ],
   "source": [
    "print(\"Duplicates in train_df: \",train_df.duplicated().sum())\n",
    "train_df = train_df.drop_duplicates()\n",
    "print(\"Duplicates in test_df: \",test_df.duplicated().sum())\n",
    "test_df = test_df.drop_duplicates()"
   ]
  },
  {
   "cell_type": "markdown",
   "id": "d172b27f",
   "metadata": {
    "papermill": {
     "duration": 0.017669,
     "end_time": "2025-03-16T07:59:19.299137",
     "exception": false,
     "start_time": "2025-03-16T07:59:19.281468",
     "status": "completed"
    },
    "tags": []
   },
   "source": [
    "## Find missing values"
   ]
  },
  {
   "cell_type": "code",
   "execution_count": 49,
   "id": "24355594",
   "metadata": {
    "papermill": {
     "duration": 0.880897,
     "end_time": "2025-03-16T07:59:20.190514",
     "exception": false,
     "start_time": "2025-03-16T07:59:19.309617",
     "status": "completed"
    },
    "scrolled": true,
    "tags": []
   },
   "outputs": [
    {
     "name": "stdout",
     "output_type": "stream",
     "text": [
      "                   Total No. of Missing Values\n",
      "id                                           0\n",
      "dur                                          0\n",
      "proto                                        0\n",
      "service                                      0\n",
      "state                                        0\n",
      "spkts                                        0\n",
      "dpkts                                        0\n",
      "sbytes                                       0\n",
      "dbytes                                       0\n",
      "rate                                         0\n",
      "sttl                                         0\n",
      "dttl                                         0\n",
      "sload                                        0\n",
      "dload                                        0\n",
      "sloss                                        0\n",
      "dloss                                        0\n",
      "sinpkt                                       0\n",
      "dinpkt                                       0\n",
      "sjit                                         0\n",
      "djit                                         0\n",
      "swin                                         0\n",
      "stcpb                                        0\n",
      "dtcpb                                        0\n",
      "dwin                                         0\n",
      "tcprtt                                       0\n",
      "synack                                       0\n",
      "ackdat                                       0\n",
      "smean                                        0\n",
      "dmean                                        0\n",
      "trans_depth                                  0\n",
      "response_body_len                            0\n",
      "ct_srv_src                                   0\n",
      "ct_state_ttl                                 0\n",
      "ct_dst_ltm                                   0\n",
      "ct_src_dport_ltm                             0\n",
      "ct_dst_sport_ltm                             0\n",
      "ct_dst_src_ltm                               0\n",
      "is_ftp_login                                 0\n",
      "ct_ftp_cmd                                   0\n",
      "ct_flw_http_mthd                             0\n",
      "ct_src_ltm                                   0\n",
      "ct_srv_dst                                   0\n",
      "is_sm_ips_ports                              0\n",
      "attack_cat                                   0\n",
      "label                                        0\n",
      "                   Total No. of Missing Values\n",
      "id                                           0\n",
      "dur                                          0\n",
      "proto                                        0\n",
      "service                                      0\n",
      "state                                        0\n",
      "spkts                                        0\n",
      "dpkts                                        0\n",
      "sbytes                                       0\n",
      "dbytes                                       0\n",
      "rate                                         0\n",
      "sttl                                         0\n",
      "dttl                                         0\n",
      "sload                                        0\n",
      "dload                                        0\n",
      "sloss                                        0\n",
      "dloss                                        0\n",
      "sinpkt                                       0\n",
      "dinpkt                                       0\n",
      "sjit                                         0\n",
      "djit                                         0\n",
      "swin                                         0\n",
      "stcpb                                        0\n",
      "dtcpb                                        0\n",
      "dwin                                         0\n",
      "tcprtt                                       0\n",
      "synack                                       0\n",
      "ackdat                                       0\n",
      "smean                                        0\n",
      "dmean                                        0\n",
      "trans_depth                                  0\n",
      "response_body_len                            0\n",
      "ct_srv_src                                   0\n",
      "ct_state_ttl                                 0\n",
      "ct_dst_ltm                                   0\n",
      "ct_src_dport_ltm                             0\n",
      "ct_dst_sport_ltm                             0\n",
      "ct_dst_src_ltm                               0\n",
      "is_ftp_login                                 0\n",
      "ct_ftp_cmd                                   0\n",
      "ct_flw_http_mthd                             0\n",
      "ct_src_ltm                                   0\n",
      "ct_srv_dst                                   0\n",
      "is_sm_ips_ports                              0\n",
      "attack_cat                                   0\n",
      "label                                        0\n"
     ]
    }
   ],
   "source": [
    "missing_data = train_df.isnull().sum().to_frame().rename(columns={0:\"Total No. of Missing Values\" })\n",
    "print(missing_data)\n",
    "missing_data = test_df.isnull().sum().to_frame().rename(columns={0:\"Total No. of Missing Values\" })\n",
    "print(missing_data)"
   ]
  },
  {
   "cell_type": "markdown",
   "id": "834c3a8a",
   "metadata": {
    "papermill": {
     "duration": 0.009004,
     "end_time": "2025-03-16T07:59:21.012317",
     "exception": false,
     "start_time": "2025-03-16T07:59:21.003313",
     "status": "completed"
    },
    "tags": []
   },
   "source": [
    "## Handling ct_ftp_cmd"
   ]
  },
  {
   "cell_type": "code",
   "execution_count": 55,
   "id": "94ffc4be",
   "metadata": {
    "papermill": {
     "duration": 0.775384,
     "end_time": "2025-03-16T07:59:20.993577",
     "exception": false,
     "start_time": "2025-03-16T07:59:20.218193",
     "status": "completed"
    },
    "tags": []
   },
   "outputs": [
    {
     "name": "stderr",
     "output_type": "stream",
     "text": [
      "C:\\Users\\Chetanya Jolly\\AppData\\Local\\Temp\\ipykernel_17120\\155591056.py:3: FutureWarning: Setting an item of incompatible dtype is deprecated and will raise in a future error of pandas. Value '['0' '0' '0' ... '0' '0' '0']' has dtype incompatible with int64, please explicitly cast to a compatible dtype first.\n",
      "  df.loc[:, 'ct_ftp_cmd'] = df['ct_ftp_cmd'].astype(str)\n",
      "C:\\Users\\Chetanya Jolly\\AppData\\Local\\Temp\\ipykernel_17120\\155591056.py:3: FutureWarning: Setting an item of incompatible dtype is deprecated and will raise in a future error of pandas. Value '['0' '0' '0' ... '0' '0' '0']' has dtype incompatible with int64, please explicitly cast to a compatible dtype first.\n",
      "  df.loc[:, 'ct_ftp_cmd'] = df['ct_ftp_cmd'].astype(str)\n"
     ]
    }
   ],
   "source": [
    "def ct_ftp_cmf_handle(df):\n",
    "    # Convert to string explicitly\n",
    "    df.loc[:, 'ct_ftp_cmd'] = df['ct_ftp_cmd'].astype(str)\n",
    "    \n",
    "    # Replace spaces or empty strings with '0' safely\n",
    "    df.loc[:, 'ct_ftp_cmd'] = df['ct_ftp_cmd'].str.strip().replace('', '0')\n",
    "    \n",
    "    # Convert back to integer (ensuring everything is a valid number)\n",
    "    df.loc[:, 'ct_ftp_cmd'] = df['ct_ftp_cmd'].astype(int)\n",
    "\n",
    "ct_ftp_cmf_handle(train_df)\n",
    "ct_ftp_cmf_handle(test_df)"
   ]
  },
  {
   "cell_type": "markdown",
   "id": "5ca430fe",
   "metadata": {
    "papermill": {
     "duration": 0.008818,
     "end_time": "2025-03-16T07:59:21.955906",
     "exception": false,
     "start_time": "2025-03-16T07:59:21.947088",
     "status": "completed"
    },
    "tags": []
   },
   "source": [
    "## Handling is_ftp_login"
   ]
  },
  {
   "cell_type": "code",
   "execution_count": 60,
   "id": "1b4ee6cc",
   "metadata": {
    "papermill": {
     "duration": 0.916036,
     "end_time": "2025-03-16T07:59:21.937397",
     "exception": false,
     "start_time": "2025-03-16T07:59:21.021361",
     "status": "completed"
    },
    "tags": []
   },
   "outputs": [],
   "source": [
    "def convert_to_binary(df, column):\n",
    "    df.loc[:, column] = (df[column] > 0).astype(int)\n",
    "    return df\n",
    "\n",
    "# Define the column name\n",
    "column = 'is_ftp_login'\n",
    "\n",
    "# Call the function\n",
    "train_df = convert_to_binary(train_df, column)\n",
    "test_df= convert_to_binary(test_df, column)"
   ]
  },
  {
   "cell_type": "code",
   "execution_count": 66,
   "id": "a4dd7947-bdfa-4d74-be18-75803da4b540",
   "metadata": {},
   "outputs": [
    {
     "name": "stdout",
     "output_type": "stream",
     "text": [
      "There are 40 Numerical Columns in dataset\n",
      "There are 5 Categorical Columns in dataset\n",
      "There are 40 Numerical Columns in dataset\n",
      "There are 5 Categorical Columns in dataset\n"
     ]
    }
   ],
   "source": [
    "countColumns(train_df)\n",
    "countColumns(test_df)"
   ]
  },
  {
   "cell_type": "markdown",
   "id": "03bb805f",
   "metadata": {
    "papermill": {
     "duration": 0.009707,
     "end_time": "2025-03-16T07:59:24.458435",
     "exception": false,
     "start_time": "2025-03-16T07:59:24.448728",
     "status": "completed"
    },
    "tags": []
   },
   "source": [
    "# EDA"
   ]
  },
  {
   "cell_type": "markdown",
   "id": "694b9369-9215-4ae7-95f5-7ea5540c46cb",
   "metadata": {
    "papermill": {
     "duration": 0.009164,
     "end_time": "2025-03-16T07:59:24.477052",
     "exception": false,
     "start_time": "2025-03-16T07:59:24.467888",
     "status": "completed"
    },
    "tags": []
   },
   "source": [
    "## Check Outliers"
   ]
  },
  {
   "cell_type": "code",
   "execution_count": 70,
   "id": "9ccf7b20",
   "metadata": {
    "papermill": {
     "duration": 0.717066,
     "end_time": "2025-03-16T07:59:25.203506",
     "exception": false,
     "start_time": "2025-03-16T07:59:24.486440",
     "status": "completed"
    },
    "tags": []
   },
   "outputs": [
    {
     "data": {
      "text/plain": [
       "40"
      ]
     },
     "execution_count": 70,
     "metadata": {},
     "output_type": "execute_result"
    }
   ],
   "source": [
    "numerical_columns = train_df.select_dtypes(include=['float64', 'int64']).columns.tolist()\n",
    "len(numerical_columns)"
   ]
  },
  {
   "cell_type": "code",
   "execution_count": 77,
   "id": "abe9a63c",
   "metadata": {
    "papermill": {
     "duration": 1.742033,
     "end_time": "2025-03-16T07:59:26.955834",
     "exception": false,
     "start_time": "2025-03-16T07:59:25.213801",
     "status": "completed"
    },
    "tags": []
   },
   "outputs": [
    {
     "name": "stderr",
     "output_type": "stream",
     "text": [
      "C:\\Users\\Chetanya Jolly\\AppData\\Local\\Temp\\ipykernel_17120\\3827687630.py:2: FutureWarning: Downcasting object dtype arrays on .fillna, .ffill, .bfill is deprecated and will change in a future version. Call result.infer_objects(copy=False) instead. To opt-in to the future behavior, set `pd.set_option('future.no_silent_downcasting', True)`\n",
      "  test_df = test_df.fillna(0)  # Replace NaNs with 0\n"
     ]
    }
   ],
   "source": [
    "train_df = train_df.fillna(0)  # Replace NaNs with 0\n",
    "test_df = test_df.fillna(0)  # Replace NaNs with 0"
   ]
  },
  {
   "cell_type": "code",
   "execution_count": 80,
   "id": "6f5c0d66",
   "metadata": {
    "papermill": {
     "duration": 0.322584,
     "end_time": "2025-03-16T07:59:27.288723",
     "exception": false,
     "start_time": "2025-03-16T07:59:26.966139",
     "status": "completed"
    },
    "tags": []
   },
   "outputs": [],
   "source": [
    "# Drop the specified columns from both train_df and test_df\n",
    "columns_to_drop = ['proto','state', 'service']\n",
    "train_df.drop(columns=columns_to_drop, inplace=True)\n",
    "test_df.drop(columns=columns_to_drop, inplace=True)"
   ]
  },
  {
   "cell_type": "code",
   "execution_count": 83,
   "id": "5d5ba4a1",
   "metadata": {
    "papermill": {
     "duration": 0.044656,
     "end_time": "2025-03-16T07:59:27.343527",
     "exception": false,
     "start_time": "2025-03-16T07:59:27.298871",
     "status": "completed"
    },
    "tags": []
   },
   "outputs": [
    {
     "name": "stdout",
     "output_type": "stream",
     "text": [
      "['attack_cat'] ['attack_cat']\n"
     ]
    }
   ],
   "source": [
    "#Checking the categorical columns \n",
    "cat_train_columns = train_df.select_dtypes(include=['O']).columns.tolist()\n",
    "cat_test_columns = test_df.select_dtypes(include=['O']).columns.tolist()\n",
    "print(cat_train_columns, cat_test_columns) "
   ]
  },
  {
   "cell_type": "markdown",
   "id": "0baba260",
   "metadata": {
    "papermill": {
     "duration": 0.00942,
     "end_time": "2025-03-16T07:59:27.362843",
     "exception": false,
     "start_time": "2025-03-16T07:59:27.353423",
     "status": "completed"
    },
    "tags": []
   },
   "source": [
    "## Target feature Encoding"
   ]
  },
  {
   "cell_type": "code",
   "execution_count": 86,
   "id": "7c9591ac",
   "metadata": {
    "papermill": {
     "duration": 1.372803,
     "end_time": "2025-03-16T07:59:28.745083",
     "exception": false,
     "start_time": "2025-03-16T07:59:27.372280",
     "status": "completed"
    },
    "tags": []
   },
   "outputs": [
    {
     "name": "stdout",
     "output_type": "stream",
     "text": [
      "Label Mapping:\n",
      "{'Analysis': 0, 'Backdoor': 1, 'DoS': 2, 'Exploits': 3, 'Fuzzers': 4, 'Generic': 5, 'Normal': 6, 'Reconnaissance': 7, 'Shellcode': 8, 'Worms': 9}\n"
     ]
    }
   ],
   "source": [
    "from sklearn.preprocessing import LabelEncoder, OneHotEncoder\n",
    "\n",
    "label_encoder = LabelEncoder()\n",
    "ohe = OneHotEncoder()\n",
    "train_df['attack_cat'] = label_encoder.fit_transform(train_df['attack_cat'])\n",
    "test_df['attack_cat'] = label_encoder.fit_transform(test_df['attack_cat'])\n",
    "label_mapping = dict(zip(label_encoder.classes_, label_encoder.transform(label_encoder.classes_)))\n",
    "print(\"Label Mapping:\")\n",
    "print(label_mapping)"
   ]
  },
  {
   "cell_type": "markdown",
   "id": "74e97022",
   "metadata": {
    "papermill": {
     "duration": 0.009742,
     "end_time": "2025-03-16T07:59:28.764976",
     "exception": false,
     "start_time": "2025-03-16T07:59:28.755234",
     "status": "completed"
    },
    "tags": []
   },
   "source": [
    "## Checking Highly Correlated Features"
   ]
  },
  {
   "cell_type": "code",
   "execution_count": 88,
   "id": "3e73d2a1",
   "metadata": {
    "papermill": {
     "duration": 10.426157,
     "end_time": "2025-03-16T07:59:39.200828",
     "exception": false,
     "start_time": "2025-03-16T07:59:28.774671",
     "status": "completed"
    },
    "scrolled": true,
    "tags": []
   },
   "outputs": [
    {
     "data": {
      "text/plain": [
       "<Axes: title={'center': 'Correlation Plot'}>"
      ]
     },
     "execution_count": 88,
     "metadata": {},
     "output_type": "execute_result"
    },
    {
     "data": {
      "image/png": "[encoded data removed]",
      "text/plain": [
       "<Figure size 4000x2000 with 2 Axes>"
      ]
     },
     "metadata": {},
     "output_type": "display_data"
    }
   ],
   "source": [
    "import matplotlib.pyplot as plt\n",
    "import seaborn as sns\n",
    "\n",
    "plt.figure(figsize=(40,20))\n",
    "plt.title(\"Correlation Plot\")\n",
    "sns.heatmap(train_df.corr(),cmap='YlGnBu')"
   ]
  },
  {
   "cell_type": "code",
   "execution_count": 99,
   "id": "577531bf",
   "metadata": {
    "papermill": {
     "duration": 8.923913,
     "end_time": "2025-03-16T07:59:48.138479",
     "exception": false,
     "start_time": "2025-03-16T07:59:39.214566",
     "status": "completed"
    },
    "scrolled": true,
    "tags": []
   },
   "outputs": [
    {
     "name": "stdout",
     "output_type": "stream",
     "text": [
      "Highly correlated features:\n"
     ]
    }
   ],
   "source": [
    "# Calculate the correlation matrix\n",
    "correlation_matrix = train_df.corr()\n",
    "\n",
    "# Create a mask to identify the features with a correlation coefficient greater than or equal to 0.75\n",
    "high_correlation_mask = correlation_matrix >= 0.75\n",
    "\n",
    "# Identify and list the highly correlated features\n",
    "highly_correlated_features = []\n",
    "\n",
    "for feature in high_correlation_mask.columns:\n",
    "    correlated_with = high_correlation_mask.index[high_correlation_mask[feature]].tolist()\n",
    "    for correlated_feature in correlated_with:\n",
    "        if feature != correlated_feature and (correlated_feature, feature) not in highly_correlated_features:\n",
    "            highly_correlated_features.append((feature, correlated_feature))\n",
    "\n",
    "# Print the highly correlated features\n",
    "print(\"Highly correlated features:\")\n",
    "for feature1, feature2 in highly_correlated_features:\n",
    "    print(f\"{feature1} and {feature2}\")"
   ]
  },
  {
   "cell_type": "markdown",
   "id": "10836143",
   "metadata": {
    "papermill": {
     "duration": 0.012328,
     "end_time": "2025-03-16T07:59:48.163821",
     "exception": false,
     "start_time": "2025-03-16T07:59:48.151493",
     "status": "completed"
    },
    "tags": []
   },
   "source": [
    "## Drop highly corelated features"
   ]
  },
  {
   "cell_type": "code",
   "execution_count": 93,
   "id": "37e34cf6",
   "metadata": {
    "papermill": {
     "duration": 0.142328,
     "end_time": "2025-03-16T07:59:48.318605",
     "exception": false,
     "start_time": "2025-03-16T07:59:48.176277",
     "status": "completed"
    },
    "tags": []
   },
   "outputs": [
    {
     "name": "stdout",
     "output_type": "stream",
     "text": [
      "Remaining features after dropping highly correlated ones:\n",
      "Index(['id', 'dur', 'spkts', 'dpkts', 'rate', 'sttl', 'dttl', 'sload', 'dload',\n",
      "       'sinpkt', 'dinpkt', 'sjit', 'djit', 'swin', 'synack', 'smean', 'dmean',\n",
      "       'trans_depth', 'response_body_len', 'ct_srv_src', 'ct_state_ttl',\n",
      "       'is_ftp_login', 'ct_flw_http_mthd', 'attack_cat', 'label'],\n",
      "      dtype='object')\n",
      "Index(['id', 'dur', 'spkts', 'dpkts', 'rate', 'sttl', 'dttl', 'sload', 'dload',\n",
      "       'sinpkt', 'dinpkt', 'sjit', 'djit', 'swin', 'synack', 'smean', 'dmean',\n",
      "       'trans_depth', 'response_body_len', 'ct_srv_src', 'ct_state_ttl',\n",
      "       'is_ftp_login', 'ct_flw_http_mthd', 'attack_cat', 'label'],\n",
      "      dtype='object')\n"
     ]
    },
    {
     "data": {
      "text/plain": [
       "array([ True,  True,  True,  True,  True,  True,  True,  True,  True,\n",
       "        True,  True,  True,  True,  True,  True,  True,  True,  True,\n",
       "        True,  True,  True,  True,  True,  True,  True])"
      ]
     },
     "execution_count": 93,
     "metadata": {},
     "output_type": "execute_result"
    }
   ],
   "source": [
    "# Create a set of features to drop\n",
    "features_to_drop = set()\n",
    "\n",
    "# Iterate over the highly correlated features and add one of each pair to the drop list\n",
    "for feature1, feature2 in highly_correlated_features:\n",
    "    if feature1 not in features_to_drop and feature2 not in features_to_drop:\n",
    "        features_to_drop.add(feature2)  # You can choose feature1 or feature2 to drop\n",
    "\n",
    "# Drop the features from the DataFrame\n",
    "train_df = train_df.drop(columns=features_to_drop)\n",
    "test_df = test_df.drop(columns=features_to_drop)\n",
    "\n",
    "# Print the remaining features\n",
    "print(\"Remaining features after dropping highly correlated ones:\")\n",
    "print(train_df.columns)\n",
    "print(test_df.columns)\n",
    "train_df.columns == test_df.columns"
   ]
  },
  {
   "cell_type": "code",
   "execution_count": 95,
   "id": "7989ece5",
   "metadata": {
    "papermill": {
     "duration": 0.019349,
     "end_time": "2025-03-16T07:59:54.058905",
     "exception": false,
     "start_time": "2025-03-16T07:59:54.039556",
     "status": "completed"
    },
    "tags": []
   },
   "outputs": [
    {
     "name": "stdout",
     "output_type": "stream",
     "text": [
      "Total Rows: 175341\n"
     ]
    }
   ],
   "source": [
    "num_rows = train_df.shape[0]  # Number of rows\n",
    "print(\"Total Rows:\", num_rows)"
   ]
  },
  {
   "cell_type": "markdown",
   "id": "900793db-8561-43ed-91c3-0bd6cf8e6a1b",
   "metadata": {},
   "source": [
    "# SMOTE"
   ]
  },
  {
   "cell_type": "code",
   "execution_count": 183,
   "id": "2244ed18-0a54-4afc-9c09-b2c82ec68434",
   "metadata": {},
   "outputs": [
    {
     "data": {
      "image/png": "[encoded data removed]",
      "text/plain": [
       "<Figure size 1000x500 with 1 Axes>"
      ]
     },
     "metadata": {},
     "output_type": "display_data"
    }
   ],
   "source": [
    "import seaborn as sns\n",
    "import matplotlib.pyplot as plt\n",
    "\n",
    "# Your label mapping\n",
    "label_mapping = {\n",
    "    0: 'Analysis',\n",
    "    1: 'Backdoor',\n",
    "    2: 'DoS',\n",
    "    3: 'Exploits',\n",
    "    4: 'Fuzzers',\n",
    "    5: 'Generic',\n",
    "    6: 'Normal',\n",
    "    7: 'Reconnaissance',\n",
    "    8: 'Shellcode',\n",
    "    9: 'Worms'\n",
    "}\n",
    "\n",
    "# Map numeric labels to names\n",
    "train_df['attack_cat_name'] = train_df['attack_cat'].map(label_mapping)\n",
    "\n",
    "# Plot\n",
    "plt.figure(figsize=(10, 5))\n",
    "sns.countplot(x='attack_cat_name', data=train_df, order=train_df['attack_cat_name'].value_counts().index)\n",
    "plt.title(\"Attack Category Distribution in Training Data\")\n",
    "plt.xlabel(\"Attack Category\")\n",
    "plt.ylabel(\"Number of Samples\")\n",
    "plt.xticks(rotation=45)\n",
    "plt.tight_layout()\n",
    "plt.show()\n"
   ]
  },
  {
   "cell_type": "code",
   "execution_count": 101,
   "id": "0b328f89-1d9a-47bb-bd76-3917fc9f3bb2",
   "metadata": {
    "scrolled": true
   },
   "outputs": [
    {
     "name": "stdout",
     "output_type": "stream",
     "text": [
      "\n",
      "Before resampling:\n",
      " attack_cat\n",
      "6    56000\n",
      "5    40000\n",
      "3    33393\n",
      "4    18184\n",
      "2    12264\n",
      "7    10491\n",
      "0     2000\n",
      "1     1746\n",
      "8     1133\n",
      "9      130\n",
      "Name: count, dtype: int64\n",
      "\n",
      "After resampling:\n",
      " attack_cat\n",
      "0    20000\n",
      "1    20000\n",
      "2    20000\n",
      "3    20000\n",
      "4    20000\n",
      "5    20000\n",
      "6    20000\n",
      "7    20000\n",
      "8    20000\n",
      "9    20000\n",
      "Name: count, dtype: int64\n",
      "(200000, 25)\n",
      "          id       dur  spkts  dpkts         rate  sttl  dttl        sload  \\\n",
      "47932  47933  0.000009      2      0  111111.1072   254     0   88888888.0   \n",
      "47936  47937  0.000009      2      0  111111.1072   254     0   88888888.0   \n",
      "47938  47939  0.000008      2      0  125000.0003   254     0  100000000.0   \n",
      "47940  47941  0.000008      2      0  125000.0003   254     0  100000000.0   \n",
      "47941  47942  0.000008      2      0  125000.0003   254     0  100000000.0   \n",
      "\n",
      "       dload  sinpkt  ...  smean  dmean  trans_depth  response_body_len  \\\n",
      "47932    0.0   0.009  ...    100      0            0                  0   \n",
      "47936    0.0   0.009  ...    100      0            0                  0   \n",
      "47938    0.0   0.008  ...    100      0            0                  0   \n",
      "47940    0.0   0.008  ...    100      0            0                  0   \n",
      "47941    0.0   0.008  ...    100      0            0                  0   \n",
      "\n",
      "       ct_srv_src  ct_state_ttl  is_ftp_login  ct_flw_http_mthd  label  \\\n",
      "47932           8             2             0                 0      1   \n",
      "47936           7             2             0                 0      1   \n",
      "47938           7             2             0                 0      1   \n",
      "47940           8             2             0                 0      1   \n",
      "47941           8             2             0                 0      1   \n",
      "\n",
      "       attack_cat  \n",
      "47932           0  \n",
      "47936           0  \n",
      "47938           0  \n",
      "47940           0  \n",
      "47941           0  \n",
      "\n",
      "[5 rows x 25 columns]\n"
     ]
    }
   ],
   "source": [
    "from imblearn.over_sampling import SMOTE\n",
    "from imblearn.under_sampling import RandomUnderSampler\n",
    "from imblearn.pipeline import Pipeline\n",
    "import pandas as pd\n",
    "\n",
    "X = train_df.drop(columns=['attack_cat'])  \n",
    "y = train_df['attack_cat']  \n",
    "\n",
    "# Define the desired number of samples for each class\n",
    "desired_count = 20000\n",
    "\n",
    "# Correct way to define oversample and undersample strategies\n",
    "oversample_strategy = {label: desired_count for label, count in y.value_counts().items() if count < desired_count}\n",
    "undersample_strategy = {label: desired_count for label, count in y.value_counts().items() if count > desired_count}\n",
    "\n",
    "# Create the SMOTE and RandomUnderSampler objects\n",
    "smote = SMOTE(sampling_strategy=oversample_strategy)\n",
    "undersample = RandomUnderSampler(sampling_strategy=undersample_strategy)\n",
    "\n",
    "# Combine SMOTE and RandomUnderSampler in a pipeline\n",
    "pipeline = Pipeline(steps=[('smote', smote), ('undersample', undersample)])\n",
    "\n",
    "# Apply the pipeline to resample the dataset\n",
    "X_resampled, y_resampled = pipeline.fit_resample(X, y)\n",
    "\n",
    "# Print class distribution before and after resampling\n",
    "print(\"\\nBefore resampling:\\n\", y.value_counts())\n",
    "print(\"\\nAfter resampling:\\n\", y_resampled.value_counts())\n",
    "\n",
    "\n",
    "# Make sure y_resampled is a DataFrame or Series\n",
    "# If y_resampled is a Series, turn it into a DataFrame first\n",
    "y_resampled = pd.DataFrame(y_resampled, columns=[\"attack_cat\"])\n",
    "\n",
    "# Concatenate along columns (axis=1)\n",
    "resampled_df = pd.concat([X_resampled, y_resampled], axis=1)\n",
    "\n",
    "# Now resampled_df looks just like your original train_df\n",
    "print(resampled_df.shape)\n",
    "print(resampled_df.head())\n"
   ]
  },
  {
   "cell_type": "markdown",
   "id": "d9372889",
   "metadata": {
    "papermill": {
     "duration": 0.014386,
     "end_time": "2025-03-16T08:00:02.162211",
     "exception": false,
     "start_time": "2025-03-16T08:00:02.147825",
     "status": "completed"
    },
    "tags": []
   },
   "source": [
    "# Train-Test-split"
   ]
  },
  {
   "cell_type": "markdown",
   "id": "d201e8bc-398c-434d-a35b-aa2a876fed38",
   "metadata": {},
   "source": [
    "## Spliting Data for Transformer"
   ]
  },
  {
   "cell_type": "code",
   "execution_count": 119,
   "id": "1d398c57-8060-4995-8415-bd0ecf6541f8",
   "metadata": {},
   "outputs": [
    {
     "name": "stdout",
     "output_type": "stream",
     "text": [
      "Training Features Shape: (160000, 25)\n",
      "Test Features Shape: (82332, 25)\n",
      "Validation Shape: (40000, 25)\n"
     ]
    }
   ],
   "source": [
    "from sklearn.model_selection import train_test_split\n",
    "from sklearn.model_selection import train_test_split\n",
    "\n",
    "numeric_col = [col for col in resampled_df.columns if col not in 'attack_cat']\n",
    "resampled_df[numeric_col] = resampled_df[numeric_col].astype(float)\n",
    "\n",
    "# Assuming X is your feature set and y is your target variable\n",
    "train, val = train_test_split(\n",
    "    resampled_df, \n",
    "    random_state=42, \n",
    "    test_size=0.2,\n",
    "    stratify=resampled_df['attack_cat']\n",
    ")\n",
    "test = test_df.copy()\n",
    "\n",
    "# Display the shape of the resulting datasets\n",
    "print(\"Training Features Shape:\", train.shape)\n",
    "print(\"Test Features Shape:\", test.shape)\n",
    "print(\"Validation Shape:\", val.shape)"
   ]
  },
  {
   "cell_type": "code",
   "execution_count": 153,
   "id": "5b394bdc-6f17-4623-ae30-ef5880fe6c58",
   "metadata": {},
   "outputs": [
    {
     "name": "stdout",
     "output_type": "stream",
     "text": [
      "<class 'pandas.core.frame.DataFrame'>\n",
      "Index: 160000 entries, 223644 to 254342\n",
      "Data columns (total 25 columns):\n",
      " #   Column             Non-Null Count   Dtype  \n",
      "---  ------             --------------   -----  \n",
      " 0   id                 160000 non-null  float64\n",
      " 1   dur                160000 non-null  float64\n",
      " 2   spkts              160000 non-null  float64\n",
      " 3   dpkts              160000 non-null  float64\n",
      " 4   rate               160000 non-null  float64\n",
      " 5   sttl               160000 non-null  float64\n",
      " 6   dttl               160000 non-null  float64\n",
      " 7   sload              160000 non-null  float64\n",
      " 8   dload              160000 non-null  float64\n",
      " 9   sinpkt             160000 non-null  float64\n",
      " 10  dinpkt             160000 non-null  float64\n",
      " 11  sjit               160000 non-null  float64\n",
      " 12  djit               160000 non-null  float64\n",
      " 13  swin               160000 non-null  float64\n",
      " 14  synack             160000 non-null  float64\n",
      " 15  smean              160000 non-null  float64\n",
      " 16  dmean              160000 non-null  float64\n",
      " 17  trans_depth        160000 non-null  float64\n",
      " 18  response_body_len  160000 non-null  float64\n",
      " 19  ct_srv_src         160000 non-null  float64\n",
      " 20  ct_state_ttl       160000 non-null  float64\n",
      " 21  is_ftp_login       160000 non-null  float64\n",
      " 22  ct_flw_http_mthd   160000 non-null  float64\n",
      " 23  label              160000 non-null  float64\n",
      " 24  attack_cat         160000 non-null  int32  \n",
      "dtypes: float64(24), int32(1)\n",
      "memory usage: 31.1 MB\n"
     ]
    }
   ],
   "source": [
    "train.info()"
   ]
  },
  {
   "cell_type": "code",
   "execution_count": 155,
   "id": "6cea0bc3-1765-4720-9a7e-40070ea529ef",
   "metadata": {},
   "outputs": [
    {
     "data": {
      "text/plain": [
       "array([7, 1, 9, 4, 8, 6, 2, 3, 5, 0])"
      ]
     },
     "execution_count": 155,
     "metadata": {},
     "output_type": "execute_result"
    }
   ],
   "source": [
    "train['attack_cat'].unique()"
   ]
  },
  {
   "cell_type": "markdown",
   "id": "988ae286",
   "metadata": {
    "papermill": {
     "duration": 0.014495,
     "end_time": "2025-03-16T08:00:02.933190",
     "exception": false,
     "start_time": "2025-03-16T08:00:02.918695",
     "status": "completed"
    },
    "tags": []
   },
   "source": [
    "# Model Building"
   ]
  },
  {
   "cell_type": "markdown",
   "id": "4a0eae14-9e16-4536-8f75-529df7c1cef0",
   "metadata": {},
   "source": [
    "## Transformers"
   ]
  },
  {
   "cell_type": "markdown",
   "id": "4ee64c95-8c53-483f-aebd-2f52cb9bb9cb",
   "metadata": {},
   "source": [
    "### Build and Train"
   ]
  },
  {
   "cell_type": "code",
   "execution_count": 130,
   "id": "3866bdfd-b8cf-4262-a162-9e7ce89636e5",
   "metadata": {},
   "outputs": [
    {
     "name": "stdout",
     "output_type": "stream",
     "text": [
      "24 25\n"
     ]
    },
    {
     "data": {
      "text/html": [
       "<pre style=\"white-space:pre;overflow-x:auto;line-height:normal;font-family:Menlo,'DejaVu Sans Mono',consolas,'Courier New',monospace\"><span style=\"color: #008080; text-decoration-color: #008080; font-weight: bold\">2025</span>-<span style=\"color: #008080; text-decoration-color: #008080; font-weight: bold\">10</span>-<span style=\"color: #008080; text-decoration-color: #008080; font-weight: bold\">31</span> <span style=\"color: #00ff00; text-decoration-color: #00ff00; font-weight: bold\">19:25:55</span>,<span style=\"color: #008080; text-decoration-color: #008080; font-weight: bold\">234</span> - <span style=\"font-weight: bold\">{</span>pytorch_tabular.tabular_model:<span style=\"color: #008080; text-decoration-color: #008080; font-weight: bold\">146</span><span style=\"font-weight: bold\">}</span> - INFO - Experiment Tracking is turned off           \n",
       "</pre>\n"
      ],
      "text/plain": [
       "\u001b[1;36m2025\u001b[0m-\u001b[1;36m10\u001b[0m-\u001b[1;36m31\u001b[0m \u001b[1;92m19:25:55\u001b[0m,\u001b[1;36m234\u001b[0m - \u001b[1m{\u001b[0mpytorch_tabular.tabular_model:\u001b[1;36m146\u001b[0m\u001b[1m}\u001b[0m - INFO - Experiment Tracking is turned off           \n"
      ]
     },
     "metadata": {},
     "output_type": "display_data"
    },
    {
     "name": "stderr",
     "output_type": "stream",
     "text": [
      "Seed set to 42\n"
     ]
    },
    {
     "data": {
      "text/html": [
       "<pre style=\"white-space:pre;overflow-x:auto;line-height:normal;font-family:Menlo,'DejaVu Sans Mono',consolas,'Courier New',monospace\"><span style=\"color: #008080; text-decoration-color: #008080; font-weight: bold\">2025</span>-<span style=\"color: #008080; text-decoration-color: #008080; font-weight: bold\">10</span>-<span style=\"color: #008080; text-decoration-color: #008080; font-weight: bold\">31</span> <span style=\"color: #00ff00; text-decoration-color: #00ff00; font-weight: bold\">19:25:55</span>,<span style=\"color: #008080; text-decoration-color: #008080; font-weight: bold\">311</span> - <span style=\"font-weight: bold\">{</span>pytorch_tabular.tabular_model:<span style=\"color: #008080; text-decoration-color: #008080; font-weight: bold\">548</span><span style=\"font-weight: bold\">}</span> - INFO - Preparing the DataLoaders                   \n",
       "</pre>\n"
      ],
      "text/plain": [
       "\u001b[1;36m2025\u001b[0m-\u001b[1;36m10\u001b[0m-\u001b[1;36m31\u001b[0m \u001b[1;92m19:25:55\u001b[0m,\u001b[1;36m311\u001b[0m - \u001b[1m{\u001b[0mpytorch_tabular.tabular_model:\u001b[1;36m548\u001b[0m\u001b[1m}\u001b[0m - INFO - Preparing the DataLoaders                   \n"
      ]
     },
     "metadata": {},
     "output_type": "display_data"
    },
    {
     "data": {
      "text/html": [
       "<pre style=\"white-space:pre;overflow-x:auto;line-height:normal;font-family:Menlo,'DejaVu Sans Mono',consolas,'Courier New',monospace\"><span style=\"color: #008080; text-decoration-color: #008080; font-weight: bold\">2025</span>-<span style=\"color: #008080; text-decoration-color: #008080; font-weight: bold\">10</span>-<span style=\"color: #008080; text-decoration-color: #008080; font-weight: bold\">31</span> <span style=\"color: #00ff00; text-decoration-color: #00ff00; font-weight: bold\">19:25:55</span>,<span style=\"color: #008080; text-decoration-color: #008080; font-weight: bold\">380</span> - <span style=\"font-weight: bold\">{</span>pytorch_tabular.tabular_datamodul<span style=\"color: #00ff00; text-decoration-color: #00ff00; font-weight: bold\">e:522</span><span style=\"font-weight: bold\">}</span> - INFO - Setting up the datamodule for          \n",
       "classification task                                                                                                \n",
       "</pre>\n"
      ],
      "text/plain": [
       "\u001b[1;36m2025\u001b[0m-\u001b[1;36m10\u001b[0m-\u001b[1;36m31\u001b[0m \u001b[1;92m19:25:55\u001b[0m,\u001b[1;36m380\u001b[0m - \u001b[1m{\u001b[0mpytorch_tabular.tabular_datamodul\u001b[1;92me:522\u001b[0m\u001b[1m}\u001b[0m - INFO - Setting up the datamodule for          \n",
       "classification task                                                                                                \n"
      ]
     },
     "metadata": {},
     "output_type": "display_data"
    },
    {
     "name": "stderr",
     "output_type": "stream",
     "text": [
      "D:\\anaconda3\\envs\\unsw_trans\\lib\\site-packages\\pytorch_tabular\\categorical_encoders.py:71: FutureWarning: A value is trying to be set on a copy of a DataFrame or Series through chained assignment using an inplace method.\n",
      "The behavior will change in pandas 3.0. This inplace method will never work because the intermediate object on which we are setting values always behaves as a copy.\n",
      "\n",
      "For example, when doing 'df[col].method(value, inplace=True)', try using 'df.method({col: value}, inplace=True)' or df[col] = df[col].method(value) instead, to perform the operation inplace on the original object.\n",
      "\n",
      "\n",
      "  X_encoded[col].fillna(self._imputed, inplace=True)\n",
      "D:\\anaconda3\\envs\\unsw_trans\\lib\\site-packages\\pytorch_tabular\\tabular_datamodule.py:386: FutureWarning: Setting an item of incompatible dtype is deprecated and will raise in a future error of pandas. Value '[ 0.87038828  0.87038828 -1.21854359 ...  1.5666989  -1.21854359\n",
      "  1.5666989 ]' has dtype incompatible with int32, please explicitly cast to a compatible dtype first.\n",
      "  data.loc[:, self.config.continuous_cols] = self.scaler.fit_transform(\n",
      "D:\\anaconda3\\envs\\unsw_trans\\lib\\site-packages\\pytorch_tabular\\categorical_encoders.py:71: FutureWarning: A value is trying to be set on a copy of a DataFrame or Series through chained assignment using an inplace method.\n",
      "The behavior will change in pandas 3.0. This inplace method will never work because the intermediate object on which we are setting values always behaves as a copy.\n",
      "\n",
      "For example, when doing 'df[col].method(value, inplace=True)', try using 'df.method({col: value}, inplace=True)' or df[col] = df[col].method(value) instead, to perform the operation inplace on the original object.\n",
      "\n",
      "\n",
      "  X_encoded[col].fillna(self._imputed, inplace=True)\n",
      "D:\\anaconda3\\envs\\unsw_trans\\lib\\site-packages\\pytorch_tabular\\tabular_datamodule.py:390: FutureWarning: Setting an item of incompatible dtype is deprecated and will raise in a future error of pandas. Value '[ 1.21854359 -0.87038828 -0.17407766 ...  0.17407766 -0.87038828\n",
      "  0.52223297]' has dtype incompatible with int32, please explicitly cast to a compatible dtype first.\n",
      "  data.loc[:, self.config.continuous_cols] = self.scaler.transform(data.loc[:, self.config.continuous_cols])\n"
     ]
    },
    {
     "data": {
      "text/html": [
       "<pre style=\"white-space:pre;overflow-x:auto;line-height:normal;font-family:Menlo,'DejaVu Sans Mono',consolas,'Courier New',monospace\"><span style=\"color: #008080; text-decoration-color: #008080; font-weight: bold\">2025</span>-<span style=\"color: #008080; text-decoration-color: #008080; font-weight: bold\">10</span>-<span style=\"color: #008080; text-decoration-color: #008080; font-weight: bold\">31</span> <span style=\"color: #00ff00; text-decoration-color: #00ff00; font-weight: bold\">19:25:55</span>,<span style=\"color: #008080; text-decoration-color: #008080; font-weight: bold\">684</span> - <span style=\"font-weight: bold\">{</span>pytorch_tabular.tabular_model:<span style=\"color: #008080; text-decoration-color: #008080; font-weight: bold\">599</span><span style=\"font-weight: bold\">}</span> - INFO - Preparing the Model: CategoryEmbeddingModel \n",
       "</pre>\n"
      ],
      "text/plain": [
       "\u001b[1;36m2025\u001b[0m-\u001b[1;36m10\u001b[0m-\u001b[1;36m31\u001b[0m \u001b[1;92m19:25:55\u001b[0m,\u001b[1;36m684\u001b[0m - \u001b[1m{\u001b[0mpytorch_tabular.tabular_model:\u001b[1;36m599\u001b[0m\u001b[1m}\u001b[0m - INFO - Preparing the Model: CategoryEmbeddingModel \n"
      ]
     },
     "metadata": {},
     "output_type": "display_data"
    },
    {
     "data": {
      "text/html": [
       "<pre style=\"white-space:pre;overflow-x:auto;line-height:normal;font-family:Menlo,'DejaVu Sans Mono',consolas,'Courier New',monospace\"><span style=\"color: #008080; text-decoration-color: #008080; font-weight: bold\">2025</span>-<span style=\"color: #008080; text-decoration-color: #008080; font-weight: bold\">10</span>-<span style=\"color: #008080; text-decoration-color: #008080; font-weight: bold\">31</span> <span style=\"color: #00ff00; text-decoration-color: #00ff00; font-weight: bold\">19:25:55</span>,<span style=\"color: #008080; text-decoration-color: #008080; font-weight: bold\">873</span> - <span style=\"font-weight: bold\">{</span>pytorch_tabular.tabular_model:<span style=\"color: #008080; text-decoration-color: #008080; font-weight: bold\">342</span><span style=\"font-weight: bold\">}</span> - INFO - Preparing the Trainer                       \n",
       "</pre>\n"
      ],
      "text/plain": [
       "\u001b[1;36m2025\u001b[0m-\u001b[1;36m10\u001b[0m-\u001b[1;36m31\u001b[0m \u001b[1;92m19:25:55\u001b[0m,\u001b[1;36m873\u001b[0m - \u001b[1m{\u001b[0mpytorch_tabular.tabular_model:\u001b[1;36m342\u001b[0m\u001b[1m}\u001b[0m - INFO - Preparing the Trainer                       \n"
      ]
     },
     "metadata": {},
     "output_type": "display_data"
    },
    {
     "name": "stderr",
     "output_type": "stream",
     "text": [
      "GPU available: True (cuda), used: True\n",
      "TPU available: False, using: 0 TPU cores\n",
      "HPU available: False, using: 0 HPUs\n"
     ]
    },
    {
     "data": {
      "text/html": [
       "<pre style=\"white-space:pre;overflow-x:auto;line-height:normal;font-family:Menlo,'DejaVu Sans Mono',consolas,'Courier New',monospace\"><span style=\"color: #008080; text-decoration-color: #008080; font-weight: bold\">2025</span>-<span style=\"color: #008080; text-decoration-color: #008080; font-weight: bold\">10</span>-<span style=\"color: #008080; text-decoration-color: #008080; font-weight: bold\">31</span> <span style=\"color: #00ff00; text-decoration-color: #00ff00; font-weight: bold\">19:25:55</span>,<span style=\"color: #008080; text-decoration-color: #008080; font-weight: bold\">908</span> - <span style=\"font-weight: bold\">{</span>pytorch_tabular.tabular_model:<span style=\"color: #008080; text-decoration-color: #008080; font-weight: bold\">656</span><span style=\"font-weight: bold\">}</span> - INFO - Auto LR Find Started                        \n",
       "</pre>\n"
      ],
      "text/plain": [
       "\u001b[1;36m2025\u001b[0m-\u001b[1;36m10\u001b[0m-\u001b[1;36m31\u001b[0m \u001b[1;92m19:25:55\u001b[0m,\u001b[1;36m908\u001b[0m - \u001b[1m{\u001b[0mpytorch_tabular.tabular_model:\u001b[1;36m656\u001b[0m\u001b[1m}\u001b[0m - INFO - Auto LR Find Started                        \n"
      ]
     },
     "metadata": {},
     "output_type": "display_data"
    },
    {
     "name": "stderr",
     "output_type": "stream",
     "text": [
      "D:\\anaconda3\\envs\\unsw_trans\\lib\\site-packages\\pytorch_lightning\\callbacks\\model_checkpoint.py:654: Checkpoint directory D:\\anaconda_projects\\ML_PROJECT\\dl_techniques\\saved_models exists and is not empty.\n",
      "LOCAL_RANK: 0 - CUDA_VISIBLE_DEVICES: [0]\n",
      "D:\\anaconda3\\envs\\unsw_trans\\lib\\site-packages\\pytorch_lightning\\trainer\\connectors\\data_connector.py:424: The 'train_dataloader' does not have many workers which may be a bottleneck. Consider increasing the value of the `num_workers` argument` to `num_workers=15` in the `DataLoader` to improve performance.\n",
      "D:\\anaconda3\\envs\\unsw_trans\\lib\\site-packages\\pytorch_lightning\\trainer\\connectors\\data_connector.py:424: The 'val_dataloader' does not have many workers which may be a bottleneck. Consider increasing the value of the `num_workers` argument` to `num_workers=15` in the `DataLoader` to improve performance.\n"
     ]
    },
    {
     "data": {
      "application/vnd.jupyter.widget-view+json": {
       "model_id": "f9a53f0bef624f52aaa9f275c760aaa7",
       "version_major": 2,
       "version_minor": 0
      },
      "text/plain": [
       "Finding best initial lr:   0%|          | 0/100 [00:00<?, ?it/s]"
      ]
     },
     "metadata": {},
     "output_type": "display_data"
    },
    {
     "name": "stderr",
     "output_type": "stream",
     "text": [
      "Trainer was signaled to stop but the required `min_epochs=1` or `min_steps=None` has not been met. Training will continue...\n",
      "`Trainer.fit` stopped: `max_steps=100` reached.\n",
      "Learning rate set to 0.0004365158322401656\n",
      "Restoring states from the checkpoint path at D:\\anaconda_projects\\ML_PROJECT\\dl_techniques\\.lr_find_6f397315-22e4-4767-87aa-714e594f564a.ckpt\n",
      "Restored all states from the checkpoint at D:\\anaconda_projects\\ML_PROJECT\\dl_techniques\\.lr_find_6f397315-22e4-4767-87aa-714e594f564a.ckpt\n"
     ]
    },
    {
     "data": {
      "text/html": [
       "<pre style=\"white-space:pre;overflow-x:auto;line-height:normal;font-family:Menlo,'DejaVu Sans Mono',consolas,'Courier New',monospace\"><span style=\"color: #008080; text-decoration-color: #008080; font-weight: bold\">2025</span>-<span style=\"color: #008080; text-decoration-color: #008080; font-weight: bold\">10</span>-<span style=\"color: #008080; text-decoration-color: #008080; font-weight: bold\">31</span> <span style=\"color: #00ff00; text-decoration-color: #00ff00; font-weight: bold\">19:25:59</span>,<span style=\"color: #008080; text-decoration-color: #008080; font-weight: bold\">760</span> - <span style=\"font-weight: bold\">{</span>pytorch_tabular.tabular_model:<span style=\"color: #008080; text-decoration-color: #008080; font-weight: bold\">669</span><span style=\"font-weight: bold\">}</span> - INFO - Suggested LR: <span style=\"color: #008080; text-decoration-color: #008080; font-weight: bold\">0.0004365158322401656</span>. For    \n",
       "plot and detailed analysis, use `find_learning_rate` method.                                                       \n",
       "</pre>\n"
      ],
      "text/plain": [
       "\u001b[1;36m2025\u001b[0m-\u001b[1;36m10\u001b[0m-\u001b[1;36m31\u001b[0m \u001b[1;92m19:25:59\u001b[0m,\u001b[1;36m760\u001b[0m - \u001b[1m{\u001b[0mpytorch_tabular.tabular_model:\u001b[1;36m669\u001b[0m\u001b[1m}\u001b[0m - INFO - Suggested LR: \u001b[1;36m0.0004365158322401656\u001b[0m. For    \n",
       "plot and detailed analysis, use `find_learning_rate` method.                                                       \n"
      ]
     },
     "metadata": {},
     "output_type": "display_data"
    },
    {
     "data": {
      "text/html": [
       "<pre style=\"white-space:pre;overflow-x:auto;line-height:normal;font-family:Menlo,'DejaVu Sans Mono',consolas,'Courier New',monospace\"><span style=\"color: #008080; text-decoration-color: #008080; font-weight: bold\">2025</span>-<span style=\"color: #008080; text-decoration-color: #008080; font-weight: bold\">10</span>-<span style=\"color: #008080; text-decoration-color: #008080; font-weight: bold\">31</span> <span style=\"color: #00ff00; text-decoration-color: #00ff00; font-weight: bold\">19:25:59</span>,<span style=\"color: #008080; text-decoration-color: #008080; font-weight: bold\">773</span> - <span style=\"font-weight: bold\">{</span>pytorch_tabular.tabular_model:<span style=\"color: #008080; text-decoration-color: #008080; font-weight: bold\">678</span><span style=\"font-weight: bold\">}</span> - INFO - Training Started                            \n",
       "</pre>\n"
      ],
      "text/plain": [
       "\u001b[1;36m2025\u001b[0m-\u001b[1;36m10\u001b[0m-\u001b[1;36m31\u001b[0m \u001b[1;92m19:25:59\u001b[0m,\u001b[1;36m773\u001b[0m - \u001b[1m{\u001b[0mpytorch_tabular.tabular_model:\u001b[1;36m678\u001b[0m\u001b[1m}\u001b[0m - INFO - Training Started                            \n"
      ]
     },
     "metadata": {},
     "output_type": "display_data"
    },
    {
     "name": "stderr",
     "output_type": "stream",
     "text": [
      "LOCAL_RANK: 0 - CUDA_VISIBLE_DEVICES: [0]\n"
     ]
    },
    {
     "data": {
      "text/html": [
       "<pre style=\"white-space:pre;overflow-x:auto;line-height:normal;font-family:Menlo,'DejaVu Sans Mono',consolas,'Courier New',monospace\">┏━━━┳━━━━━━━━━━━━━━━━━━┳━━━━━━━━━━━━━━━━━━━━━━━━━━━┳━━━━━━━━┳━━━━━━━┓\n",
       "┃<span style=\"color: #800080; text-decoration-color: #800080; font-weight: bold\">   </span>┃<span style=\"color: #800080; text-decoration-color: #800080; font-weight: bold\"> Name             </span>┃<span style=\"color: #800080; text-decoration-color: #800080; font-weight: bold\"> Type                      </span>┃<span style=\"color: #800080; text-decoration-color: #800080; font-weight: bold\"> Params </span>┃<span style=\"color: #800080; text-decoration-color: #800080; font-weight: bold\"> Mode  </span>┃\n",
       "┡━━━╇━━━━━━━━━━━━━━━━━━╇━━━━━━━━━━━━━━━━━━━━━━━━━━━╇━━━━━━━━╇━━━━━━━┩\n",
       "│<span style=\"color: #7f7f7f; text-decoration-color: #7f7f7f\"> 0 </span>│ _backbone        │ CategoryEmbeddingBackbone │  815 K │ train │\n",
       "│<span style=\"color: #7f7f7f; text-decoration-color: #7f7f7f\"> 1 </span>│ _embedding_layer │ Embedding1dLayer          │     54 │ train │\n",
       "│<span style=\"color: #7f7f7f; text-decoration-color: #7f7f7f\"> 2 </span>│ head             │ LinearHead                │  5.1 K │ train │\n",
       "│<span style=\"color: #7f7f7f; text-decoration-color: #7f7f7f\"> 3 </span>│ loss             │ CrossEntropyLoss          │      0 │ train │\n",
       "└───┴──────────────────┴───────────────────────────┴────────┴───────┘\n",
       "</pre>\n"
      ],
      "text/plain": [
       "┏━━━┳━━━━━━━━━━━━━━━━━━┳━━━━━━━━━━━━━━━━━━━━━━━━━━━┳━━━━━━━━┳━━━━━━━┓\n",
       "┃\u001b[1;35m \u001b[0m\u001b[1;35m \u001b[0m\u001b[1;35m \u001b[0m┃\u001b[1;35m \u001b[0m\u001b[1;35mName            \u001b[0m\u001b[1;35m \u001b[0m┃\u001b[1;35m \u001b[0m\u001b[1;35mType                     \u001b[0m\u001b[1;35m \u001b[0m┃\u001b[1;35m \u001b[0m\u001b[1;35mParams\u001b[0m\u001b[1;35m \u001b[0m┃\u001b[1;35m \u001b[0m\u001b[1;35mMode \u001b[0m\u001b[1;35m \u001b[0m┃\n",
       "┡━━━╇━━━━━━━━━━━━━━━━━━╇━━━━━━━━━━━━━━━━━━━━━━━━━━━╇━━━━━━━━╇━━━━━━━┩\n",
       "│\u001b[2m \u001b[0m\u001b[2m0\u001b[0m\u001b[2m \u001b[0m│ _backbone        │ CategoryEmbeddingBackbone │  815 K │ train │\n",
       "│\u001b[2m \u001b[0m\u001b[2m1\u001b[0m\u001b[2m \u001b[0m│ _embedding_layer │ Embedding1dLayer          │     54 │ train │\n",
       "│\u001b[2m \u001b[0m\u001b[2m2\u001b[0m\u001b[2m \u001b[0m│ head             │ LinearHead                │  5.1 K │ train │\n",
       "│\u001b[2m \u001b[0m\u001b[2m3\u001b[0m\u001b[2m \u001b[0m│ loss             │ CrossEntropyLoss          │      0 │ train │\n",
       "└───┴──────────────────┴───────────────────────────┴────────┴───────┘\n"
      ]
     },
     "metadata": {},
     "output_type": "display_data"
    },
    {
     "data": {
      "text/html": [
       "<pre style=\"white-space:pre;overflow-x:auto;line-height:normal;font-family:Menlo,'DejaVu Sans Mono',consolas,'Courier New',monospace\"><span style=\"font-weight: bold\">Trainable params</span>: 820 K                                                                                            \n",
       "<span style=\"font-weight: bold\">Non-trainable params</span>: 0                                                                                            \n",
       "<span style=\"font-weight: bold\">Total params</span>: 820 K                                                                                                \n",
       "<span style=\"font-weight: bold\">Total estimated model params size (MB)</span>: 3                                                                          \n",
       "<span style=\"font-weight: bold\">Modules in train mode</span>: 17                                                                                          \n",
       "<span style=\"font-weight: bold\">Modules in eval mode</span>: 0                                                                                            \n",
       "</pre>\n"
      ],
      "text/plain": [
       "\u001b[1mTrainable params\u001b[0m: 820 K                                                                                            \n",
       "\u001b[1mNon-trainable params\u001b[0m: 0                                                                                            \n",
       "\u001b[1mTotal params\u001b[0m: 820 K                                                                                                \n",
       "\u001b[1mTotal estimated model params size (MB)\u001b[0m: 3                                                                          \n",
       "\u001b[1mModules in train mode\u001b[0m: 17                                                                                          \n",
       "\u001b[1mModules in eval mode\u001b[0m: 0                                                                                            \n"
      ]
     },
     "metadata": {},
     "output_type": "display_data"
    },
    {
     "data": {
      "application/vnd.jupyter.widget-view+json": {
       "model_id": "804a0ea68dcc467c8473b0d8ee6dbc8e",
       "version_major": 2,
       "version_minor": 0
      },
      "text/plain": [
       "Output()"
      ]
     },
     "metadata": {},
     "output_type": "display_data"
    },
    {
     "data": {
      "text/html": [
       "<pre style=\"white-space:pre;overflow-x:auto;line-height:normal;font-family:Menlo,'DejaVu Sans Mono',consolas,'Courier New',monospace\"></pre>\n"
      ],
      "text/plain": []
     },
     "metadata": {},
     "output_type": "display_data"
    },
    {
     "data": {
      "text/html": [
       "<pre style=\"white-space:pre;overflow-x:auto;line-height:normal;font-family:Menlo,'DejaVu Sans Mono',consolas,'Courier New',monospace\"><span style=\"color: #008080; text-decoration-color: #008080; font-weight: bold\">2025</span>-<span style=\"color: #008080; text-decoration-color: #008080; font-weight: bold\">10</span>-<span style=\"color: #008080; text-decoration-color: #008080; font-weight: bold\">31</span> <span style=\"color: #00ff00; text-decoration-color: #00ff00; font-weight: bold\">19:30:38</span>,<span style=\"color: #008080; text-decoration-color: #008080; font-weight: bold\">469</span> - <span style=\"font-weight: bold\">{</span>pytorch_tabular.tabular_model:<span style=\"color: #008080; text-decoration-color: #008080; font-weight: bold\">689</span><span style=\"font-weight: bold\">}</span> - INFO - Training the model completed                \n",
       "</pre>\n"
      ],
      "text/plain": [
       "\u001b[1;36m2025\u001b[0m-\u001b[1;36m10\u001b[0m-\u001b[1;36m31\u001b[0m \u001b[1;92m19:30:38\u001b[0m,\u001b[1;36m469\u001b[0m - \u001b[1m{\u001b[0mpytorch_tabular.tabular_model:\u001b[1;36m689\u001b[0m\u001b[1m}\u001b[0m - INFO - Training the model completed                \n"
      ]
     },
     "metadata": {},
     "output_type": "display_data"
    },
    {
     "data": {
      "text/html": [
       "<pre style=\"white-space:pre;overflow-x:auto;line-height:normal;font-family:Menlo,'DejaVu Sans Mono',consolas,'Courier New',monospace\"><span style=\"color: #008080; text-decoration-color: #008080; font-weight: bold\">2025</span>-<span style=\"color: #008080; text-decoration-color: #008080; font-weight: bold\">10</span>-<span style=\"color: #008080; text-decoration-color: #008080; font-weight: bold\">31</span> <span style=\"color: #00ff00; text-decoration-color: #00ff00; font-weight: bold\">19:30:38</span>,<span style=\"color: #008080; text-decoration-color: #008080; font-weight: bold\">476</span> - <span style=\"font-weight: bold\">{</span>pytorch_tabular.tabular_model:<span style=\"color: #008080; text-decoration-color: #008080; font-weight: bold\">1575</span><span style=\"font-weight: bold\">}</span> - WARNING - Directory is not empty. Overwriting the \n",
       "contents.                                                                                                          \n",
       "</pre>\n"
      ],
      "text/plain": [
       "\u001b[1;36m2025\u001b[0m-\u001b[1;36m10\u001b[0m-\u001b[1;36m31\u001b[0m \u001b[1;92m19:30:38\u001b[0m,\u001b[1;36m476\u001b[0m - \u001b[1m{\u001b[0mpytorch_tabular.tabular_model:\u001b[1;36m1575\u001b[0m\u001b[1m}\u001b[0m - WARNING - Directory is not empty. Overwriting the \n",
       "contents.                                                                                                          \n"
      ]
     },
     "metadata": {},
     "output_type": "display_data"
    }
   ],
   "source": [
    "from pytorch_tabular import TabularModel\n",
    "from pytorch_tabular.models import CategoryEmbeddingModelConfig\n",
    "from pytorch_tabular.config import (\n",
    "    DataConfig,\n",
    "    OptimizerConfig,\n",
    "    TrainerConfig,\n",
    ")\n",
    "from sklearn.metrics import classification_report\n",
    "import torch\n",
    "from omegaconf import DictConfig, ListConfig\n",
    "from omegaconf.base import ContainerMetadata\n",
    "from typing import Any\n",
    "\n",
    "# Circumventing the weight_only=true\n",
    "torch.serialization.clear_safe_globals()\n",
    "torch.serialization.add_safe_globals([DictConfig, ListConfig, ContainerMetadata, Any])\n",
    "\n",
    "#----------------- Data Configuration ------------#\n",
    "categorical_columns = [\"is_ftp_login\"]\n",
    "continuous_columns = list(set(train.columns) - set(categorical_columns) -set('attack_cat'))\n",
    "print(len(continuous_columns), len(train.columns))\n",
    "data_config = DataConfig(\n",
    "    target=[\"attack_cat\"],  # target should always be a list.\n",
    "    continuous_cols = continuous_columns,\n",
    "    categorical_cols = categorical_columns,\n",
    ")\n",
    "\n",
    "\n",
    "#----------------- Trainer Configuration ---------#\n",
    "trainer_config = TrainerConfig(\n",
    "    auto_lr_find=True,  # Runs the LRFinder to automatically derive a learning rate\n",
    "    batch_size=128,\n",
    "    max_epochs=20,\n",
    "    load_best=False,\n",
    ")\n",
    "optimizer_config = OptimizerConfig()\n",
    "\n",
    "#----------------- Model Configuration --------#\n",
    "model_config = CategoryEmbeddingModelConfig(\n",
    "    task=\"classification\",\n",
    "    layers=\"1024-512-512\",  # Number of nodes in each layer\n",
    "    activation=\"LeakyReLU\",  # Activation between each layers\n",
    "    learning_rate=1e-3,\n",
    ")\n",
    "\n",
    "tabular_model = TabularModel(\n",
    "    data_config=data_config,\n",
    "    model_config=model_config,\n",
    "    optimizer_config=optimizer_config,\n",
    "    trainer_config=trainer_config,\n",
    ")\n",
    "\n",
    "\n",
    "# Train model\n",
    "tabular_model.fit(\n",
    "    train=train,\n",
    "    validation=val,\n",
    ")\n",
    "\n",
    "tabular_model.save_model(dir = r\"D:\\anaconda_projects\\ML_PROJECT\\dl_techniques\\saved_models_changed\", inference_only=False)"
   ]
  },
  {
   "cell_type": "markdown",
   "id": "2684354d-036a-4a67-9ce7-7a93ef90e4e4",
   "metadata": {},
   "source": [
    "### Load and Evaluate"
   ]
  },
  {
   "cell_type": "code",
   "execution_count": 133,
   "id": "d3ff7128-7f6d-4358-b264-654c986b76fd",
   "metadata": {},
   "outputs": [
    {
     "data": {
      "text/html": [
       "<pre style=\"white-space:pre;overflow-x:auto;line-height:normal;font-family:Menlo,'DejaVu Sans Mono',consolas,'Courier New',monospace\"><span style=\"color: #008080; text-decoration-color: #008080; font-weight: bold\">2025</span>-<span style=\"color: #008080; text-decoration-color: #008080; font-weight: bold\">10</span>-<span style=\"color: #008080; text-decoration-color: #008080; font-weight: bold\">31</span> <span style=\"color: #00ff00; text-decoration-color: #00ff00; font-weight: bold\">19:35:39</span>,<span style=\"color: #008080; text-decoration-color: #008080; font-weight: bold\">209</span> - <span style=\"font-weight: bold\">{</span>pytorch_tabular.tabular_model:<span style=\"color: #008080; text-decoration-color: #008080; font-weight: bold\">171</span><span style=\"font-weight: bold\">}</span> - INFO - Experiment Tracking is turned off           \n",
       "</pre>\n"
      ],
      "text/plain": [
       "\u001b[1;36m2025\u001b[0m-\u001b[1;36m10\u001b[0m-\u001b[1;36m31\u001b[0m \u001b[1;92m19:35:39\u001b[0m,\u001b[1;36m209\u001b[0m - \u001b[1m{\u001b[0mpytorch_tabular.tabular_model:\u001b[1;36m171\u001b[0m\u001b[1m}\u001b[0m - INFO - Experiment Tracking is turned off           \n"
      ]
     },
     "metadata": {},
     "output_type": "display_data"
    },
    {
     "data": {
      "text/html": [
       "<pre style=\"white-space:pre;overflow-x:auto;line-height:normal;font-family:Menlo,'DejaVu Sans Mono',consolas,'Courier New',monospace\"><span style=\"color: #008080; text-decoration-color: #008080; font-weight: bold\">2025</span>-<span style=\"color: #008080; text-decoration-color: #008080; font-weight: bold\">10</span>-<span style=\"color: #008080; text-decoration-color: #008080; font-weight: bold\">31</span> <span style=\"color: #00ff00; text-decoration-color: #00ff00; font-weight: bold\">19:35:39</span>,<span style=\"color: #008080; text-decoration-color: #008080; font-weight: bold\">235</span> - <span style=\"font-weight: bold\">{</span>pytorch_tabular.tabular_model:<span style=\"color: #008080; text-decoration-color: #008080; font-weight: bold\">342</span><span style=\"font-weight: bold\">}</span> - INFO - Preparing the Trainer                       \n",
       "</pre>\n"
      ],
      "text/plain": [
       "\u001b[1;36m2025\u001b[0m-\u001b[1;36m10\u001b[0m-\u001b[1;36m31\u001b[0m \u001b[1;92m19:35:39\u001b[0m,\u001b[1;36m235\u001b[0m - \u001b[1m{\u001b[0mpytorch_tabular.tabular_model:\u001b[1;36m342\u001b[0m\u001b[1m}\u001b[0m - INFO - Preparing the Trainer                       \n"
      ]
     },
     "metadata": {},
     "output_type": "display_data"
    },
    {
     "name": "stderr",
     "output_type": "stream",
     "text": [
      "Trainer already configured with model summary callbacks: [<class 'pytorch_lightning.callbacks.rich_model_summary.RichModelSummary'>]. Skipping setting a default `ModelSummary` callback.\n",
      "GPU available: True (cuda), used: True\n",
      "TPU available: False, using: 0 TPU cores\n",
      "HPU available: False, using: 0 HPUs\n"
     ]
    }
   ],
   "source": [
    "from pytorch_tabular import TabularModel\n",
    "model = TabularModel.load_model(r\"D:\\anaconda_projects\\ML_PROJECT\\dl_techniques\\saved_models_changed\", map_location=None, strict=True)"
   ]
  },
  {
   "cell_type": "code",
   "execution_count": 135,
   "id": "1dfb5542-0005-4547-8e01-f5d8ecd481ee",
   "metadata": {},
   "outputs": [
    {
     "name": "stdout",
     "output_type": "stream",
     "text": [
      "   | Name                                       | Type                      | Params | Mode \n",
      "--------------------------------------------------------------------------------------------------\n",
      "0  | _backbone                                  | CategoryEmbeddingBackbone | 815 K  | train\n",
      "1  | _backbone.linear_layers                    | Sequential                | 815 K  | train\n",
      "2  | _backbone.linear_layers.0                  | Linear                    | 27.6 K | train\n",
      "3  | _backbone.linear_layers.1                  | LeakyReLU                 | 0      | train\n",
      "4  | _backbone.linear_layers.2                  | Linear                    | 524 K  | train\n",
      "5  | _backbone.linear_layers.3                  | LeakyReLU                 | 0      | train\n",
      "6  | _backbone.linear_layers.4                  | Linear                    | 262 K  | train\n",
      "7  | _backbone.linear_layers.5                  | LeakyReLU                 | 0      | train\n",
      "8  | _embedding_layer                           | Embedding1dLayer          | 54     | train\n",
      "9  | _embedding_layer.cat_embedding_layers      | ModuleList                | 6      | train\n",
      "10 | _embedding_layer.cat_embedding_layers.0    | Embedding                 | 6      | train\n",
      "11 | _embedding_layer.normalizing_batch_norm    | BatchNorm1d               | 48     | train\n",
      "12 | _embedding_layer.normalizing_batch_norm.bn | BatchNorm1d               | 48     | train\n",
      "13 | head                                       | LinearHead                | 5.1 K  | train\n",
      "14 | head.layers                                | Sequential                | 5.1 K  | train\n",
      "15 | head.layers.0                              | Linear                    | 5.1 K  | train\n",
      "16 | loss                                       | CrossEntropyLoss          | 0      | train\n",
      "--------------------------------------------------------------------------------------------------\n",
      "820 K     Trainable params\n",
      "0         Non-trainable params\n",
      "820 K     Total params\n",
      "3.281     Total estimated model params size (MB)\n",
      "17        Modules in train mode\n",
      "0         Modules in eval mode\n"
     ]
    }
   ],
   "source": [
    "model.summary()"
   ]
  },
  {
   "cell_type": "code",
   "execution_count": 137,
   "id": "75f51a4e-363d-4a9b-947d-ff57eaff573d",
   "metadata": {
    "scrolled": true
   },
   "outputs": [
    {
     "name": "stderr",
     "output_type": "stream",
     "text": [
      "D:\\anaconda3\\envs\\unsw_trans\\lib\\site-packages\\pytorch_tabular\\categorical_encoders.py:71: FutureWarning: A value is trying to be set on a copy of a DataFrame or Series through chained assignment using an inplace method.\n",
      "The behavior will change in pandas 3.0. This inplace method will never work because the intermediate object on which we are setting values always behaves as a copy.\n",
      "\n",
      "For example, when doing 'df[col].method(value, inplace=True)', try using 'df.method({col: value}, inplace=True)' or df[col] = df[col].method(value) instead, to perform the operation inplace on the original object.\n",
      "\n",
      "\n",
      "  X_encoded[col].fillna(self._imputed, inplace=True)\n",
      "D:\\anaconda3\\envs\\unsw_trans\\lib\\site-packages\\pytorch_tabular\\tabular_datamodule.py:390: FutureWarning: Setting an item of incompatible dtype is deprecated and will raise in a future error of pandas. Value '[-0.36652157 -0.36652157 -0.36652157 ... -0.36652157 -0.36652157\n",
      " -0.36652157]' has dtype incompatible with int64, please explicitly cast to a compatible dtype first.\n",
      "  data.loc[:, self.config.continuous_cols] = self.scaler.transform(data.loc[:, self.config.continuous_cols])\n",
      "D:\\anaconda3\\envs\\unsw_trans\\lib\\site-packages\\pytorch_tabular\\tabular_datamodule.py:390: FutureWarning: Setting an item of incompatible dtype is deprecated and will raise in a future error of pandas. Value '[-0.89594068 -0.89594068 -0.89594068 ... -0.89594068 -0.89594068\n",
      " -0.89594068]' has dtype incompatible with int64, please explicitly cast to a compatible dtype first.\n",
      "  data.loc[:, self.config.continuous_cols] = self.scaler.transform(data.loc[:, self.config.continuous_cols])\n",
      "D:\\anaconda3\\envs\\unsw_trans\\lib\\site-packages\\pytorch_tabular\\tabular_datamodule.py:390: FutureWarning: Setting an item of incompatible dtype is deprecated and will raise in a future error of pandas. Value '[-0.47827772 -0.47827772 -0.35305897 ... -0.60349648 -0.60349648\n",
      " -0.60349648]' has dtype incompatible with int64, please explicitly cast to a compatible dtype first.\n",
      "  data.loc[:, self.config.continuous_cols] = self.scaler.transform(data.loc[:, self.config.continuous_cols])\n",
      "D:\\anaconda3\\envs\\unsw_trans\\lib\\site-packages\\pytorch_tabular\\tabular_datamodule.py:390: FutureWarning: Setting an item of incompatible dtype is deprecated and will raise in a future error of pandas. Value '[0.66063497 0.66063497 0.66063497 ... 0.66063497 0.66063497 0.66063497]' has dtype incompatible with int64, please explicitly cast to a compatible dtype first.\n",
      "  data.loc[:, self.config.continuous_cols] = self.scaler.transform(data.loc[:, self.config.continuous_cols])\n",
      "D:\\anaconda3\\envs\\unsw_trans\\lib\\site-packages\\pytorch_tabular\\tabular_datamodule.py:390: FutureWarning: Setting an item of incompatible dtype is deprecated and will raise in a future error of pandas. Value '[0.52223297 0.52223297 0.52223297 ... 0.52223297 0.52223297 0.52223297]' has dtype incompatible with int32, please explicitly cast to a compatible dtype first.\n",
      "  data.loc[:, self.config.continuous_cols] = self.scaler.transform(data.loc[:, self.config.continuous_cols])\n",
      "D:\\anaconda3\\envs\\unsw_trans\\lib\\site-packages\\pytorch_tabular\\tabular_datamodule.py:390: FutureWarning: Setting an item of incompatible dtype is deprecated and will raise in a future error of pandas. Value '[-0.14501601 -0.14501601 -0.14501601 ... -0.14501601 -0.14501601\n",
      " -0.14501601]' has dtype incompatible with int64, please explicitly cast to a compatible dtype first.\n",
      "  data.loc[:, self.config.continuous_cols] = self.scaler.transform(data.loc[:, self.config.continuous_cols])\n",
      "D:\\anaconda3\\envs\\unsw_trans\\lib\\site-packages\\pytorch_tabular\\tabular_datamodule.py:390: FutureWarning: Setting an item of incompatible dtype is deprecated and will raise in a future error of pandas. Value '[-0.106947   -0.106947   -0.106947   ... -0.11525825 -0.11525825\n",
      " -0.106947  ]' has dtype incompatible with int64, please explicitly cast to a compatible dtype first.\n",
      "  data.loc[:, self.config.continuous_cols] = self.scaler.transform(data.loc[:, self.config.continuous_cols])\n",
      "D:\\anaconda3\\envs\\unsw_trans\\lib\\site-packages\\pytorch_tabular\\tabular_datamodule.py:390: FutureWarning: Setting an item of incompatible dtype is deprecated and will raise in a future error of pandas. Value '[-0.19521483 -0.19521483 -0.19521483 ... -0.19521483 -0.19521483\n",
      " -0.19521483]' has dtype incompatible with int64, please explicitly cast to a compatible dtype first.\n",
      "  data.loc[:, self.config.continuous_cols] = self.scaler.transform(data.loc[:, self.config.continuous_cols])\n",
      "D:\\anaconda3\\envs\\unsw_trans\\lib\\site-packages\\pytorch_tabular\\tabular_datamodule.py:390: FutureWarning: Setting an item of incompatible dtype is deprecated and will raise in a future error of pandas. Value '[ 0.44532204  0.44532204  0.44532204 ... -2.85208496 -2.85208496\n",
      "  0.44532204]' has dtype incompatible with int64, please explicitly cast to a compatible dtype first.\n",
      "  data.loc[:, self.config.continuous_cols] = self.scaler.transform(data.loc[:, self.config.continuous_cols])\n",
      "D:\\anaconda3\\envs\\unsw_trans\\lib\\site-packages\\pytorch_tabular\\tabular_datamodule.py:390: FutureWarning: Setting an item of incompatible dtype is deprecated and will raise in a future error of pandas. Value '[-2.38967273 -2.38964726 -2.38962178 ... -0.29216581 -0.29214033\n",
      " -0.29211485]' has dtype incompatible with int64, please explicitly cast to a compatible dtype first.\n",
      "  data.loc[:, self.config.continuous_cols] = self.scaler.transform(data.loc[:, self.config.continuous_cols])\n",
      "D:\\anaconda3\\envs\\unsw_trans\\lib\\site-packages\\pytorch_tabular\\tabular_datamodule.py:390: FutureWarning: Setting an item of incompatible dtype is deprecated and will raise in a future error of pandas. Value '[-0.83618851 -0.83618851 -0.83618851 ... -0.83618851 -0.83618851\n",
      " -0.83618851]' has dtype incompatible with int64, please explicitly cast to a compatible dtype first.\n",
      "  data.loc[:, self.config.continuous_cols] = self.scaler.transform(data.loc[:, self.config.continuous_cols])\n",
      "D:\\anaconda3\\envs\\unsw_trans\\lib\\site-packages\\pytorch_tabular\\tabular_datamodule.py:390: FutureWarning: Setting an item of incompatible dtype is deprecated and will raise in a future error of pandas. Value '[-0.22734806 -0.22734806 -0.22734806 ... -0.22734806 -0.22734806\n",
      " -0.22734806]' has dtype incompatible with int64, please explicitly cast to a compatible dtype first.\n",
      "  data.loc[:, self.config.continuous_cols] = self.scaler.transform(data.loc[:, self.config.continuous_cols])\n",
      "D:\\anaconda3\\envs\\unsw_trans\\lib\\site-packages\\pytorch_tabular\\tabular_datamodule.py:390: FutureWarning: Setting an item of incompatible dtype is deprecated and will raise in a future error of pandas. Value '[-3. -3. -3. ... -3. -3. -3.]' has dtype incompatible with int64, please explicitly cast to a compatible dtype first.\n",
      "  data.loc[:, self.config.continuous_cols] = self.scaler.transform(data.loc[:, self.config.continuous_cols])\n",
      "D:\\anaconda3\\envs\\unsw_trans\\lib\\site-packages\\pytorch_tabular\\tabular_datamodule.py:390: FutureWarning: Setting an item of incompatible dtype is deprecated and will raise in a future error of pandas. Value '[ 0.61920702  4.0967512   2.19041972 ... -0.49053061 -0.49053061\n",
      " -0.45756811]' has dtype incompatible with int64, please explicitly cast to a compatible dtype first.\n",
      "  data.loc[:, self.config.continuous_cols] = self.scaler.transform(data.loc[:, self.config.continuous_cols])\n",
      "D:\\anaconda3\\envs\\unsw_trans\\lib\\site-packages\\pytorch_tabular\\tabular_datamodule.py:390: FutureWarning: Setting an item of incompatible dtype is deprecated and will raise in a future error of pandas. Value '[-0.07823296 -0.07823296 -0.07823296 ... -0.07823296 -0.07823296\n",
      " -0.07823296]' has dtype incompatible with int64, please explicitly cast to a compatible dtype first.\n",
      "  data.loc[:, self.config.continuous_cols] = self.scaler.transform(data.loc[:, self.config.continuous_cols])\n",
      "LOCAL_RANK: 0 - CUDA_VISIBLE_DEVICES: [0]\n"
     ]
    },
    {
     "data": {
      "application/vnd.jupyter.widget-view+json": {
       "model_id": "a6e1242c77154a7bbbca49800e5d8926",
       "version_major": 2,
       "version_minor": 0
      },
      "text/plain": [
       "Output()"
      ]
     },
     "metadata": {},
     "output_type": "display_data"
    },
    {
     "name": "stderr",
     "output_type": "stream",
     "text": [
      "D:\\anaconda3\\envs\\unsw_trans\\lib\\site-packages\\pytorch_lightning\\trainer\\connectors\\data_connector.py:424: The 'test_dataloader' does not have many workers which may be a bottleneck. Consider increasing the value of the `num_workers` argument` to `num_workers=15` in the `DataLoader` to improve performance.\n"
     ]
    },
    {
     "data": {
      "text/html": [
       "<pre style=\"white-space:pre;overflow-x:auto;line-height:normal;font-family:Menlo,'DejaVu Sans Mono',consolas,'Courier New',monospace\">┏━━━━━━━━━━━━━━━━━━━━━━━━━━━┳━━━━━━━━━━━━━━━━━━━━━━━━━━━┓\n",
       "┃<span style=\"font-weight: bold\">        Test metric        </span>┃<span style=\"font-weight: bold\">       DataLoader 0        </span>┃\n",
       "┡━━━━━━━━━━━━━━━━━━━━━━━━━━━╇━━━━━━━━━━━━━━━━━━━━━━━━━━━┩\n",
       "│<span style=\"color: #008080; text-decoration-color: #008080\">       test_accuracy       </span>│<span style=\"color: #800080; text-decoration-color: #800080\">    0.7667856812477112     </span>│\n",
       "│<span style=\"color: #008080; text-decoration-color: #008080\">         test_loss         </span>│<span style=\"color: #800080; text-decoration-color: #800080\">    2.5518603324890137     </span>│\n",
       "│<span style=\"color: #008080; text-decoration-color: #008080\">        test_loss_0        </span>│<span style=\"color: #800080; text-decoration-color: #800080\">    2.5518603324890137     </span>│\n",
       "└───────────────────────────┴───────────────────────────┘\n",
       "</pre>\n"
      ],
      "text/plain": [
       "┏━━━━━━━━━━━━━━━━━━━━━━━━━━━┳━━━━━━━━━━━━━━━━━━━━━━━━━━━┓\n",
       "┃\u001b[1m \u001b[0m\u001b[1m       Test metric       \u001b[0m\u001b[1m \u001b[0m┃\u001b[1m \u001b[0m\u001b[1m      DataLoader 0       \u001b[0m\u001b[1m \u001b[0m┃\n",
       "┡━━━━━━━━━━━━━━━━━━━━━━━━━━━╇━━━━━━━━━━━━━━━━━━━━━━━━━━━┩\n",
       "│\u001b[36m \u001b[0m\u001b[36m      test_accuracy      \u001b[0m\u001b[36m \u001b[0m│\u001b[35m \u001b[0m\u001b[35m   0.7667856812477112    \u001b[0m\u001b[35m \u001b[0m│\n",
       "│\u001b[36m \u001b[0m\u001b[36m        test_loss        \u001b[0m\u001b[36m \u001b[0m│\u001b[35m \u001b[0m\u001b[35m   2.5518603324890137    \u001b[0m\u001b[35m \u001b[0m│\n",
       "│\u001b[36m \u001b[0m\u001b[36m       test_loss_0       \u001b[0m\u001b[36m \u001b[0m│\u001b[35m \u001b[0m\u001b[35m   2.5518603324890137    \u001b[0m\u001b[35m \u001b[0m│\n",
       "└───────────────────────────┴───────────────────────────┘\n"
      ]
     },
     "metadata": {},
     "output_type": "display_data"
    },
    {
     "data": {
      "text/html": [
       "<pre style=\"white-space:pre;overflow-x:auto;line-height:normal;font-family:Menlo,'DejaVu Sans Mono',consolas,'Courier New',monospace\"></pre>\n"
      ],
      "text/plain": []
     },
     "metadata": {},
     "output_type": "display_data"
    },
    {
     "data": {
      "text/plain": [
       "[{'test_loss_0': 2.5518603324890137,\n",
       "  'test_loss': 2.5518603324890137,\n",
       "  'test_accuracy': 0.7667856812477112}]"
      ]
     },
     "execution_count": 137,
     "metadata": {},
     "output_type": "execute_result"
    }
   ],
   "source": [
    "tabular_model.evaluate(test)"
   ]
  },
  {
   "cell_type": "code",
   "execution_count": 139,
   "id": "bdf4a171-0d08-476b-bf08-61c6e85ae5ad",
   "metadata": {
    "scrolled": true
   },
   "outputs": [
    {
     "name": "stderr",
     "output_type": "stream",
     "text": [
      "D:\\anaconda3\\envs\\unsw_trans\\lib\\site-packages\\pytorch_tabular\\categorical_encoders.py:71: FutureWarning: A value is trying to be set on a copy of a DataFrame or Series through chained assignment using an inplace method.\n",
      "The behavior will change in pandas 3.0. This inplace method will never work because the intermediate object on which we are setting values always behaves as a copy.\n",
      "\n",
      "For example, when doing 'df[col].method(value, inplace=True)', try using 'df.method({col: value}, inplace=True)' or df[col] = df[col].method(value) instead, to perform the operation inplace on the original object.\n",
      "\n",
      "\n",
      "  X_encoded[col].fillna(self._imputed, inplace=True)\n",
      "D:\\anaconda3\\envs\\unsw_trans\\lib\\site-packages\\pytorch_tabular\\tabular_datamodule.py:390: FutureWarning: Setting an item of incompatible dtype is deprecated and will raise in a future error of pandas. Value '[-0.36652157 -0.36652157 -0.36652157 ... -0.36652157 -0.36652157\n",
      " -0.36652157]' has dtype incompatible with int64, please explicitly cast to a compatible dtype first.\n",
      "  data.loc[:, self.config.continuous_cols] = self.scaler.transform(data.loc[:, self.config.continuous_cols])\n",
      "D:\\anaconda3\\envs\\unsw_trans\\lib\\site-packages\\pytorch_tabular\\tabular_datamodule.py:390: FutureWarning: Setting an item of incompatible dtype is deprecated and will raise in a future error of pandas. Value '[-0.89594068 -0.89594068 -0.89594068 ... -0.89594068 -0.89594068\n",
      " -0.89594068]' has dtype incompatible with int64, please explicitly cast to a compatible dtype first.\n",
      "  data.loc[:, self.config.continuous_cols] = self.scaler.transform(data.loc[:, self.config.continuous_cols])\n",
      "D:\\anaconda3\\envs\\unsw_trans\\lib\\site-packages\\pytorch_tabular\\tabular_datamodule.py:390: FutureWarning: Setting an item of incompatible dtype is deprecated and will raise in a future error of pandas. Value '[-0.47827772 -0.47827772 -0.35305897 ... -0.60349648 -0.60349648\n",
      " -0.60349648]' has dtype incompatible with int64, please explicitly cast to a compatible dtype first.\n",
      "  data.loc[:, self.config.continuous_cols] = self.scaler.transform(data.loc[:, self.config.continuous_cols])\n",
      "D:\\anaconda3\\envs\\unsw_trans\\lib\\site-packages\\pytorch_tabular\\tabular_datamodule.py:390: FutureWarning: Setting an item of incompatible dtype is deprecated and will raise in a future error of pandas. Value '[0.66063497 0.66063497 0.66063497 ... 0.66063497 0.66063497 0.66063497]' has dtype incompatible with int64, please explicitly cast to a compatible dtype first.\n",
      "  data.loc[:, self.config.continuous_cols] = self.scaler.transform(data.loc[:, self.config.continuous_cols])\n",
      "D:\\anaconda3\\envs\\unsw_trans\\lib\\site-packages\\pytorch_tabular\\tabular_datamodule.py:390: FutureWarning: Setting an item of incompatible dtype is deprecated and will raise in a future error of pandas. Value '[0.52223297 0.52223297 0.52223297 ... 0.52223297 0.52223297 0.52223297]' has dtype incompatible with int32, please explicitly cast to a compatible dtype first.\n",
      "  data.loc[:, self.config.continuous_cols] = self.scaler.transform(data.loc[:, self.config.continuous_cols])\n",
      "D:\\anaconda3\\envs\\unsw_trans\\lib\\site-packages\\pytorch_tabular\\tabular_datamodule.py:390: FutureWarning: Setting an item of incompatible dtype is deprecated and will raise in a future error of pandas. Value '[-0.14501601 -0.14501601 -0.14501601 ... -0.14501601 -0.14501601\n",
      " -0.14501601]' has dtype incompatible with int64, please explicitly cast to a compatible dtype first.\n",
      "  data.loc[:, self.config.continuous_cols] = self.scaler.transform(data.loc[:, self.config.continuous_cols])\n",
      "D:\\anaconda3\\envs\\unsw_trans\\lib\\site-packages\\pytorch_tabular\\tabular_datamodule.py:390: FutureWarning: Setting an item of incompatible dtype is deprecated and will raise in a future error of pandas. Value '[-0.106947   -0.106947   -0.106947   ... -0.11525825 -0.11525825\n",
      " -0.106947  ]' has dtype incompatible with int64, please explicitly cast to a compatible dtype first.\n",
      "  data.loc[:, self.config.continuous_cols] = self.scaler.transform(data.loc[:, self.config.continuous_cols])\n",
      "D:\\anaconda3\\envs\\unsw_trans\\lib\\site-packages\\pytorch_tabular\\tabular_datamodule.py:390: FutureWarning: Setting an item of incompatible dtype is deprecated and will raise in a future error of pandas. Value '[-0.19521483 -0.19521483 -0.19521483 ... -0.19521483 -0.19521483\n",
      " -0.19521483]' has dtype incompatible with int64, please explicitly cast to a compatible dtype first.\n",
      "  data.loc[:, self.config.continuous_cols] = self.scaler.transform(data.loc[:, self.config.continuous_cols])\n",
      "D:\\anaconda3\\envs\\unsw_trans\\lib\\site-packages\\pytorch_tabular\\tabular_datamodule.py:390: FutureWarning: Setting an item of incompatible dtype is deprecated and will raise in a future error of pandas. Value '[ 0.44532204  0.44532204  0.44532204 ... -2.85208496 -2.85208496\n",
      "  0.44532204]' has dtype incompatible with int64, please explicitly cast to a compatible dtype first.\n",
      "  data.loc[:, self.config.continuous_cols] = self.scaler.transform(data.loc[:, self.config.continuous_cols])\n",
      "D:\\anaconda3\\envs\\unsw_trans\\lib\\site-packages\\pytorch_tabular\\tabular_datamodule.py:390: FutureWarning: Setting an item of incompatible dtype is deprecated and will raise in a future error of pandas. Value '[-2.38967273 -2.38964726 -2.38962178 ... -0.29216581 -0.29214033\n",
      " -0.29211485]' has dtype incompatible with int64, please explicitly cast to a compatible dtype first.\n",
      "  data.loc[:, self.config.continuous_cols] = self.scaler.transform(data.loc[:, self.config.continuous_cols])\n",
      "D:\\anaconda3\\envs\\unsw_trans\\lib\\site-packages\\pytorch_tabular\\tabular_datamodule.py:390: FutureWarning: Setting an item of incompatible dtype is deprecated and will raise in a future error of pandas. Value '[-0.83618851 -0.83618851 -0.83618851 ... -0.83618851 -0.83618851\n",
      " -0.83618851]' has dtype incompatible with int64, please explicitly cast to a compatible dtype first.\n",
      "  data.loc[:, self.config.continuous_cols] = self.scaler.transform(data.loc[:, self.config.continuous_cols])\n",
      "D:\\anaconda3\\envs\\unsw_trans\\lib\\site-packages\\pytorch_tabular\\tabular_datamodule.py:390: FutureWarning: Setting an item of incompatible dtype is deprecated and will raise in a future error of pandas. Value '[-0.22734806 -0.22734806 -0.22734806 ... -0.22734806 -0.22734806\n",
      " -0.22734806]' has dtype incompatible with int64, please explicitly cast to a compatible dtype first.\n",
      "  data.loc[:, self.config.continuous_cols] = self.scaler.transform(data.loc[:, self.config.continuous_cols])\n",
      "D:\\anaconda3\\envs\\unsw_trans\\lib\\site-packages\\pytorch_tabular\\tabular_datamodule.py:390: FutureWarning: Setting an item of incompatible dtype is deprecated and will raise in a future error of pandas. Value '[-3. -3. -3. ... -3. -3. -3.]' has dtype incompatible with int64, please explicitly cast to a compatible dtype first.\n",
      "  data.loc[:, self.config.continuous_cols] = self.scaler.transform(data.loc[:, self.config.continuous_cols])\n",
      "D:\\anaconda3\\envs\\unsw_trans\\lib\\site-packages\\pytorch_tabular\\tabular_datamodule.py:390: FutureWarning: Setting an item of incompatible dtype is deprecated and will raise in a future error of pandas. Value '[ 0.61920702  4.0967512   2.19041972 ... -0.49053061 -0.49053061\n",
      " -0.45756811]' has dtype incompatible with int64, please explicitly cast to a compatible dtype first.\n",
      "  data.loc[:, self.config.continuous_cols] = self.scaler.transform(data.loc[:, self.config.continuous_cols])\n",
      "D:\\anaconda3\\envs\\unsw_trans\\lib\\site-packages\\pytorch_tabular\\tabular_datamodule.py:390: FutureWarning: Setting an item of incompatible dtype is deprecated and will raise in a future error of pandas. Value '[-0.07823296 -0.07823296 -0.07823296 ... -0.07823296 -0.07823296\n",
      " -0.07823296]' has dtype incompatible with int64, please explicitly cast to a compatible dtype first.\n",
      "  data.loc[:, self.config.continuous_cols] = self.scaler.transform(data.loc[:, self.config.continuous_cols])\n"
     ]
    }
   ],
   "source": [
    "predicted = model.predict(test)"
   ]
  },
  {
   "cell_type": "code",
   "execution_count": 157,
   "id": "3b2ae8b6-b682-4bc2-8ea2-a20f9de881d6",
   "metadata": {},
   "outputs": [
    {
     "data": {
      "text/html": [
       "<div>\n",
       "<style scoped>\n",
       "    .dataframe tbody tr th:only-of-type {\n",
       "        vertical-align: middle;\n",
       "    }\n",
       "\n",
       "    .dataframe tbody tr th {\n",
       "        vertical-align: top;\n",
       "    }\n",
       "\n",
       "    .dataframe thead th {\n",
       "        text-align: right;\n",
       "    }\n",
       "</style>\n",
       "<table border=\"1\" class=\"dataframe\">\n",
       "  <thead>\n",
       "    <tr style=\"text-align: right;\">\n",
       "      <th></th>\n",
       "      <th>attack_cat_-1.5666989036012806_probability</th>\n",
       "      <th>attack_cat_-1.2185435916898848_probability</th>\n",
       "      <th>attack_cat_-0.8703882797784892_probability</th>\n",
       "      <th>attack_cat_-0.5222329678670935_probability</th>\n",
       "      <th>attack_cat_-0.17407765595569785_probability</th>\n",
       "      <th>attack_cat_0.17407765595569785_probability</th>\n",
       "      <th>attack_cat_0.5222329678670935_probability</th>\n",
       "      <th>attack_cat_0.8703882797784892_probability</th>\n",
       "      <th>attack_cat_1.2185435916898848_probability</th>\n",
       "      <th>attack_cat_1.5666989036012806_probability</th>\n",
       "      <th>attack_cat_prediction</th>\n",
       "    </tr>\n",
       "  </thead>\n",
       "  <tbody>\n",
       "    <tr>\n",
       "      <th>14130</th>\n",
       "      <td>2.322347e-19</td>\n",
       "      <td>3.052366e-18</td>\n",
       "      <td>2.928255e-12</td>\n",
       "      <td>7.022571e-06</td>\n",
       "      <td>9.999862e-01</td>\n",
       "      <td>8.287116e-07</td>\n",
       "      <td>1.230377e-11</td>\n",
       "      <td>5.931966e-06</td>\n",
       "      <td>1.742907e-08</td>\n",
       "      <td>1.928063e-13</td>\n",
       "      <td>-0.174078</td>\n",
       "    </tr>\n",
       "    <tr>\n",
       "      <th>36880</th>\n",
       "      <td>9.055685e-10</td>\n",
       "      <td>1.633709e-10</td>\n",
       "      <td>1.335126e-09</td>\n",
       "      <td>2.422698e-08</td>\n",
       "      <td>1.035357e-11</td>\n",
       "      <td>3.709790e-13</td>\n",
       "      <td>1.000000e+00</td>\n",
       "      <td>2.080733e-13</td>\n",
       "      <td>3.080349e-13</td>\n",
       "      <td>3.530048e-13</td>\n",
       "      <td>0.522233</td>\n",
       "    </tr>\n",
       "    <tr>\n",
       "      <th>4353</th>\n",
       "      <td>5.661259e-06</td>\n",
       "      <td>1.900072e-02</td>\n",
       "      <td>9.768165e-01</td>\n",
       "      <td>4.175790e-03</td>\n",
       "      <td>9.397759e-07</td>\n",
       "      <td>6.816971e-10</td>\n",
       "      <td>3.949160e-07</td>\n",
       "      <td>6.264583e-10</td>\n",
       "      <td>6.765128e-08</td>\n",
       "      <td>3.830628e-08</td>\n",
       "      <td>-0.870388</td>\n",
       "    </tr>\n",
       "    <tr>\n",
       "      <th>17456</th>\n",
       "      <td>1.104708e-16</td>\n",
       "      <td>2.228152e-16</td>\n",
       "      <td>1.580235e-11</td>\n",
       "      <td>7.861197e-06</td>\n",
       "      <td>9.999874e-01</td>\n",
       "      <td>2.488509e-06</td>\n",
       "      <td>8.406866e-10</td>\n",
       "      <td>2.165971e-06</td>\n",
       "      <td>1.336169e-07</td>\n",
       "      <td>8.231181e-12</td>\n",
       "      <td>-0.174078</td>\n",
       "    </tr>\n",
       "    <tr>\n",
       "      <th>24929</th>\n",
       "      <td>3.119662e-10</td>\n",
       "      <td>9.945700e-11</td>\n",
       "      <td>1.579116e-11</td>\n",
       "      <td>2.894641e-10</td>\n",
       "      <td>1.024055e-13</td>\n",
       "      <td>2.191361e-15</td>\n",
       "      <td>1.000000e+00</td>\n",
       "      <td>1.150985e-14</td>\n",
       "      <td>6.242754e-14</td>\n",
       "      <td>2.935199e-14</td>\n",
       "      <td>0.522233</td>\n",
       "    </tr>\n",
       "  </tbody>\n",
       "</table>\n",
       "</div>"
      ],
      "text/plain": [
       "       attack_cat_-1.5666989036012806_probability  \\\n",
       "14130                                2.322347e-19   \n",
       "36880                                9.055685e-10   \n",
       "4353                                 5.661259e-06   \n",
       "17456                                1.104708e-16   \n",
       "24929                                3.119662e-10   \n",
       "\n",
       "       attack_cat_-1.2185435916898848_probability  \\\n",
       "14130                                3.052366e-18   \n",
       "36880                                1.633709e-10   \n",
       "4353                                 1.900072e-02   \n",
       "17456                                2.228152e-16   \n",
       "24929                                9.945700e-11   \n",
       "\n",
       "       attack_cat_-0.8703882797784892_probability  \\\n",
       "14130                                2.928255e-12   \n",
       "36880                                1.335126e-09   \n",
       "4353                                 9.768165e-01   \n",
       "17456                                1.580235e-11   \n",
       "24929                                1.579116e-11   \n",
       "\n",
       "       attack_cat_-0.5222329678670935_probability  \\\n",
       "14130                                7.022571e-06   \n",
       "36880                                2.422698e-08   \n",
       "4353                                 4.175790e-03   \n",
       "17456                                7.861197e-06   \n",
       "24929                                2.894641e-10   \n",
       "\n",
       "       attack_cat_-0.17407765595569785_probability  \\\n",
       "14130                                 9.999862e-01   \n",
       "36880                                 1.035357e-11   \n",
       "4353                                  9.397759e-07   \n",
       "17456                                 9.999874e-01   \n",
       "24929                                 1.024055e-13   \n",
       "\n",
       "       attack_cat_0.17407765595569785_probability  \\\n",
       "14130                                8.287116e-07   \n",
       "36880                                3.709790e-13   \n",
       "4353                                 6.816971e-10   \n",
       "17456                                2.488509e-06   \n",
       "24929                                2.191361e-15   \n",
       "\n",
       "       attack_cat_0.5222329678670935_probability  \\\n",
       "14130                               1.230377e-11   \n",
       "36880                               1.000000e+00   \n",
       "4353                                3.949160e-07   \n",
       "17456                               8.406866e-10   \n",
       "24929                               1.000000e+00   \n",
       "\n",
       "       attack_cat_0.8703882797784892_probability  \\\n",
       "14130                               5.931966e-06   \n",
       "36880                               2.080733e-13   \n",
       "4353                                6.264583e-10   \n",
       "17456                               2.165971e-06   \n",
       "24929                               1.150985e-14   \n",
       "\n",
       "       attack_cat_1.2185435916898848_probability  \\\n",
       "14130                               1.742907e-08   \n",
       "36880                               3.080349e-13   \n",
       "4353                                6.765128e-08   \n",
       "17456                               1.336169e-07   \n",
       "24929                               6.242754e-14   \n",
       "\n",
       "       attack_cat_1.5666989036012806_probability  attack_cat_prediction  \n",
       "14130                               1.928063e-13              -0.174078  \n",
       "36880                               3.530048e-13               0.522233  \n",
       "4353                                3.830628e-08              -0.870388  \n",
       "17456                               8.231181e-12              -0.174078  \n",
       "24929                               2.935199e-14               0.522233  "
      ]
     },
     "execution_count": 157,
     "metadata": {},
     "output_type": "execute_result"
    }
   ],
   "source": [
    "predicted.sample(5)"
   ]
  },
  {
   "cell_type": "code",
   "execution_count": 151,
   "id": "a8445339-f001-42c7-ac5e-20e8a563fbcf",
   "metadata": {},
   "outputs": [
    {
     "data": {
      "text/plain": [
       "Index(['attack_cat_-1.5666989036012806_probability',\n",
       "       'attack_cat_-1.2185435916898848_probability',\n",
       "       'attack_cat_-0.8703882797784892_probability',\n",
       "       'attack_cat_-0.5222329678670935_probability',\n",
       "       'attack_cat_-0.17407765595569785_probability',\n",
       "       'attack_cat_0.17407765595569785_probability',\n",
       "       'attack_cat_0.5222329678670935_probability',\n",
       "       'attack_cat_0.8703882797784892_probability',\n",
       "       'attack_cat_1.2185435916898848_probability',\n",
       "       'attack_cat_1.5666989036012806_probability', 'attack_cat_prediction'],\n",
       "      dtype='object')"
      ]
     },
     "execution_count": 151,
     "metadata": {},
     "output_type": "execute_result"
    }
   ],
   "source": [
    "predicted.columns"
   ]
  },
  {
   "cell_type": "code",
   "execution_count": 166,
   "id": "8edfb4c6-9a78-4e49-a39b-05c547aba1a6",
   "metadata": {},
   "outputs": [],
   "source": [
    "class_map = {\n",
    "    -1.5666989036012806: 0,\n",
    "    -1.2185435916898848: 1,\n",
    "    -0.8703882797784892: 2,\n",
    "    -0.5222329678670935: 3,\n",
    "    -0.17407765595569785: 4,\n",
    "     0.17407765595569785: 5,\n",
    "     0.5222329678670935: 6,\n",
    "     0.8703882797784892: 7,\n",
    "     1.2185435916898848: 8,\n",
    "     1.5666989036012806: 9\n",
    "}\n",
    "\n",
    "predicted['attack_cat_prediction_decoded'] = predicted['attack_cat_prediction'].map(class_map)"
   ]
  },
  {
   "cell_type": "code",
   "execution_count": 168,
   "id": "55ce7608-647b-4226-9c1c-129a6d3d4d94",
   "metadata": {},
   "outputs": [
    {
     "data": {
      "image/png": "[encoded data removed]",
      "text/plain": [
       "<Figure size 1000x500 with 1 Axes>"
      ]
     },
     "metadata": {},
     "output_type": "display_data"
    }
   ],
   "source": [
    "import matplotlib.pyplot as plt\n",
    "\n",
    "# Example data\n",
    "y_true = test['attack_cat']\n",
    "y_pred = predicted['attack_cat_prediction_decoded']\n",
    "\n",
    "timestamps = range(len(y_true))\n",
    "plt.figure(figsize=(10, 5))\n",
    "\n",
    "# Plot true values\n",
    "plt.plot(timestamps, y_true, label='Actual', linewidth=2)\n",
    "\n",
    "# Plot model predictions\n",
    "plt.plot(timestamps, y_pred, label='Transformer Predictions', linestyle='--', linewidth=2)\n",
    "\n",
    "# Labels and title\n",
    "plt.xlabel('Time')\n",
    "plt.ylabel('Value')\n",
    "plt.title('Transformer Model Predictions vs Actual Values')\n",
    "plt.legend()\n",
    "plt.grid(True)\n",
    "plt.show()\n"
   ]
  },
  {
   "cell_type": "code",
   "execution_count": 193,
   "id": "bb6091e6-e1ba-4122-a9a6-9e2ac5b83383",
   "metadata": {},
   "outputs": [
    {
     "data": {
      "image/png": "[encoded data removed]",
      "text/plain": [
       "<Figure size 800x600 with 2 Axes>"
      ]
     },
     "metadata": {},
     "output_type": "display_data"
    },
    {
     "name": "stdout",
     "output_type": "stream",
     "text": [
      "Classification Report:\n",
      "                precision    recall  f1-score   support\n",
      "\n",
      "      Analysis       1.00      1.00      1.00       677\n",
      "      Backdoor       0.97      1.00      0.98       583\n",
      "           DoS       0.95      0.99      0.97      4089\n",
      "      Exploits       0.98      0.99      0.99     11132\n",
      "       Fuzzers       0.24      1.00      0.39      6062\n",
      "       Generic       1.00      0.00      0.01     18871\n",
      "        Normal       1.00      0.99      1.00     37000\n",
      "Reconnaissance       1.00      1.00      1.00      3496\n",
      "     Shellcode       1.00      0.99      0.99       378\n",
      "         Worms       1.00      0.98      0.99        44\n",
      "\n",
      "      accuracy                           0.77     82332\n",
      "     macro avg       0.91      0.90      0.83     82332\n",
      "  weighted avg       0.94      0.77      0.72     82332\n",
      "\n"
     ]
    }
   ],
   "source": [
    "from sklearn.metrics import confusion_matrix, ConfusionMatrixDisplay, classification_report\n",
    "import matplotlib.pyplot as plt\n",
    "\n",
    "# Your label mapping\n",
    "label_mapping = {\n",
    "    0: 'Analysis',\n",
    "    1: 'Backdoor',\n",
    "    2: 'DoS',\n",
    "    3: 'Exploits',\n",
    "    4: 'Fuzzers',\n",
    "    5: 'Generic',\n",
    "    6: 'Normal',\n",
    "    7: 'Reconnaissance',\n",
    "    8: 'Shellcode',\n",
    "    9: 'Worms'\n",
    "}\n",
    "\n",
    "# Convert to list for display\n",
    "labels = [label_mapping[i] for i in sorted(label_mapping.keys())]\n",
    "\n",
    "# Confusion Matrix\n",
    "fig, ax = plt.subplots(figsize=(8, 6))\n",
    "disp = ConfusionMatrixDisplay(confusion_matrix=cm, display_labels=labels)\n",
    "disp.plot(cmap=\"Blues\", ax=ax, colorbar=True)\n",
    "plt.setp(ax.get_xticklabels(), rotation=25, ha=\"right\", fontsize=10)\n",
    "plt.tight_layout()\n",
    "plt.show()\n",
    "\n",
    "# Classification Report (with names)\n",
    "print(\"Classification Report:\")\n",
    "print(classification_report(y_true, y_pred, target_names=labels))\n",
    "\n"
   ]
  },
  {
   "cell_type": "code",
   "execution_count": 195,
   "id": "60890437-92d3-4ba2-b77e-6bec80e15f94",
   "metadata": {},
   "outputs": [],
   "source": [
    "torch.save(tabular_model.model.state_dict, 'transformer_changed.pt')"
   ]
  }
 ],
 "metadata": {
  "kaggle": {
   "accelerator": "gpu",
   "dataSources": [
    {
     "datasetId": 111554,
     "sourceId": 267091,
     "sourceType": "datasetVersion"
    }
   ],
   "dockerImageVersionId": 30918,
   "isGpuEnabled": true,
   "isInternetEnabled": true,
   "language": "python",
   "sourceType": "notebook"
  },
  "kernelspec": {
   "display_name": "unsw_trans",
   "language": "python",
   "name": "unsw_trans"
  },
  "language_info": {
   "codemirror_mode": {
    "name": "ipython",
    "version": 3
   },
   "file_extension": ".py",
   "mimetype": "text/x-python",
   "name": "python",
   "nbconvert_exporter": "python",
   "pygments_lexer": "ipython3",
   "version": "3.10.16"
  },
  "papermill": {
   "default_parameters": {},
   "duration": 2670.533143,
   "end_time": "2025-03-16T08:43:12.810389",
   "environment_variables": {},
   "exception": null,
   "input_path": "__notebook__.ipynb",
   "output_path": "__notebook__.ipynb",
   "parameters": {},
   "start_time": "2025-03-16T07:58:42.277246",
   "version": "2.6.0"
  }
 },
 "nbformat": 4,
 "nbformat_minor": 5
}
